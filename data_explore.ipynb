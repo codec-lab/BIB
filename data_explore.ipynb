{
 "cells": [
  {
   "cell_type": "code",
   "execution_count": 7,
   "metadata": {},
   "outputs": [],
   "source": [
    "import json\n",
    "import torch\n",
    "import pandas as pd"
   ]
  },
  {
   "cell_type": "code",
   "execution_count": 8,
   "metadata": {},
   "outputs": [],
   "source": [
    "name = 'small_sample_train/000000coe.json'\n",
    "with open(name) as f:\n",
    "    data = json.load(f)"
   ]
  },
  {
   "cell_type": "code",
   "execution_count": 9,
   "metadata": {},
   "outputs": [
    {
     "data": {
      "text/plain": [
       "dict_keys(['size', 'walls', 'fuse_walls', 'pin', 'key', 'objects', 'blocking', 'home', 'agent'])"
      ]
     },
     "execution_count": 9,
     "metadata": {},
     "output_type": "execute_result"
    }
   ],
   "source": [
    "ep = data[0]\n",
    "ep[0].keys()"
   ]
  },
  {
   "cell_type": "markdown",
   "metadata": {},
   "source": [
    "For each episode, the only data that changes each frame is the agent data. And some fields are empty entirely."
   ]
  },
  {
   "cell_type": "code",
   "execution_count": 36,
   "metadata": {},
   "outputs": [
    {
     "name": "stdout",
     "output_type": "stream",
     "text": [
      "[200, 200]\n",
      "[[[74, 60], 9, './shapes/train/objects/flag.png', [255, 255, 0]]]\n",
      "[[47, 24], 6, './shapes/home.png', [255, 105, 180]]\n",
      "[[47, 24], 6, './shapes/train/agents/kite.png', [0, 0, 128]]\n"
     ]
    }
   ],
   "source": [
    "print(ep[0]['size'])\n",
    "print(ep[0]['objects']) #the goal object (with shape flag)\n",
    "print(ep[0]['home']) #the home object where the agent starts (with shape of house) with rgb value 255, 105 180\n",
    "print(ep[0]['agent'])"
   ]
  },
  {
   "cell_type": "code",
   "execution_count": 16,
   "metadata": {},
   "outputs": [
    {
     "name": "stdout",
     "output_type": "stream",
     "text": [
      "agent doesnt match \n",
      "\n",
      "size 2\n",
      "walls 50\n",
      "fuse_walls 0\n",
      "pin 0\n",
      "key 0\n",
      "objects 1\n",
      "blocking 0\n",
      "home 4\n",
      "agent 4\n"
     ]
    }
   ],
   "source": [
    "for i in ep[0].keys():\n",
    "    if ep[0][i] != ep[-1][i]:\n",
    "        print(i, 'doesnt match \\n')\n",
    "for key in ep[0].keys():\n",
    "    print(key, len(ep[0][key]))"
   ]
  },
  {
   "cell_type": "code",
   "execution_count": 24,
   "metadata": {},
   "outputs": [
    {
     "name": "stdout",
     "output_type": "stream",
     "text": [
      "129\n",
      "31 [[48, 25], 6, './shapes/train/agents/kite.png', [0, 0, 128]]\n",
      "32 [[49, 27], 6, './shapes/train/agents/kite.png', [0, 0, 128]]\n",
      "33 [[51, 29], 6, './shapes/train/agents/kite.png', [0, 0, 128]]\n",
      "34 [[52, 31], 6, './shapes/train/agents/kite.png', [0, 0, 128]]\n",
      "35 [[54, 33], 6, './shapes/train/agents/kite.png', [0, 0, 128]]\n",
      "36 [[55, 35], 6, './shapes/train/agents/kite.png', [0, 0, 128]]\n",
      "37 [[57, 37], 6, './shapes/train/agents/kite.png', [0, 0, 128]]\n",
      "38 [[59, 39], 6, './shapes/train/agents/kite.png', [0, 0, 128]]\n",
      "39 [[60, 41], 6, './shapes/train/agents/kite.png', [0, 0, 128]]\n",
      "40 [[62, 43], 6, './shapes/train/agents/kite.png', [0, 0, 128]]\n",
      "41 [[63, 45], 6, './shapes/train/agents/kite.png', [0, 0, 128]]\n",
      "42 [[65, 47], 6, './shapes/train/agents/kite.png', [0, 0, 128]]\n",
      "43 [[66, 49], 6, './shapes/train/agents/kite.png', [0, 0, 128]]\n",
      "44 [[68, 51], 6, './shapes/train/agents/kite.png', [0, 0, 128]]\n",
      "45 [[69, 53], 6, './shapes/train/agents/kite.png', [0, 0, 128]]\n",
      "[[48, 25], [49, 27], [51, 29], [52, 31], [54, 33], [55, 35], [57, 37], [59, 39], [60, 41], [62, 43], [63, 45], [65, 47], [66, 49], [68, 51], [69, 53]]\n"
     ]
    }
   ],
   "source": [
    "print(len(ep)) #in a 129 frame episode, only 14 have anything changing\n",
    "agent_changes = []\n",
    "curr = ep[0]['agent']\n",
    "for i,b in enumerate(ep):\n",
    "    if b['agent'] != curr:\n",
    "        print (i,b['agent'])\n",
    "        curr = b['agent']\n",
    "        agent_changes.append(b['agent'][0])\n",
    "print(agent_changes)\n"
   ]
  },
  {
   "cell_type": "code",
   "execution_count": null,
   "metadata": {},
   "outputs": [],
   "source": [
    "#if trying best to represent the data as an image, can make a 3d tensor to include a color channel that is 0 for\n",
    "#all of the walls and 1 for the agent, goal, and home objects"
   ]
  },
  {
   "cell_type": "code",
   "execution_count": 52,
   "metadata": {},
   "outputs": [
    {
     "data": {
      "text/plain": [
       "array([[2.4 , 1.25],\n",
       "       [2.45, 1.35],\n",
       "       [2.55, 1.45],\n",
       "       [2.6 , 1.55],\n",
       "       [2.7 , 1.65],\n",
       "       [2.75, 1.75],\n",
       "       [2.85, 1.85],\n",
       "       [2.95, 1.95],\n",
       "       [3.  , 2.05],\n",
       "       [3.1 , 2.15],\n",
       "       [3.15, 2.25],\n",
       "       [3.25, 2.35],\n",
       "       [3.3 , 2.45],\n",
       "       [3.4 , 2.55],\n",
       "       [3.45, 2.65]])"
      ]
     },
     "execution_count": 52,
     "metadata": {},
     "output_type": "execute_result"
    }
   ],
   "source": [
    "(agent_change_indices).numpy()/20"
   ]
  },
  {
   "cell_type": "code",
   "execution_count": 44,
   "metadata": {},
   "outputs": [
    {
     "data": {
      "text/plain": [
       "tensor([[[0., 0., 0.],\n",
       "         [0., 0., 0.],\n",
       "         [0., 0., 0.]],\n",
       "\n",
       "        [[0., 0., 0.],\n",
       "         [0., 0., 0.],\n",
       "         [0., 0., 0.]],\n",
       "\n",
       "        [[0., 0., 0.],\n",
       "         [0., 0., 0.],\n",
       "         [0., 0., 0.]]])"
      ]
     },
     "execution_count": 44,
     "metadata": {},
     "output_type": "execute_result"
    }
   ],
   "source": [
    "#example of 3d color channel\n",
    "torch.zeros(3,3,3)"
   ]
  },
  {
   "cell_type": "code",
   "execution_count": 46,
   "metadata": {},
   "outputs": [
    {
     "data": {
      "text/plain": [
       "tensor([[48, 25],\n",
       "        [49, 27],\n",
       "        [51, 29],\n",
       "        [52, 31],\n",
       "        [54, 33],\n",
       "        [55, 35],\n",
       "        [57, 37],\n",
       "        [59, 39],\n",
       "        [60, 41],\n",
       "        [62, 43],\n",
       "        [63, 45],\n",
       "        [65, 47],\n",
       "        [66, 49],\n",
       "        [68, 51],\n",
       "        [69, 53]])"
      ]
     },
     "execution_count": 46,
     "metadata": {},
     "output_type": "execute_result"
    }
   ],
   "source": [
    "agent_change_indices = torch.tensor(agent_changes)\n",
    "agent_change_indices"
   ]
  },
  {
   "cell_type": "code",
   "execution_count": 60,
   "metadata": {},
   "outputs": [
    {
     "data": {
      "text/plain": [
       "tensor([74, 60])"
      ]
     },
     "execution_count": 60,
     "metadata": {},
     "output_type": "execute_result"
    }
   ],
   "source": [
    "object_tensor = torch.tensor(ep[0]['objects'][0][0])\n",
    "object_tensor"
   ]
  },
  {
   "cell_type": "code",
   "execution_count": null,
   "metadata": {},
   "outputs": [],
   "source": [
    "#walls are 1x1 blocks in a 10x10 grid scaled by factor of 20"
   ]
  },
  {
   "cell_type": "code",
   "execution_count": 13,
   "metadata": {},
   "outputs": [],
   "source": [
    "walls = (pd.DataFrame([a for a,b in ep[0]['walls']],columns=['Wall_x','Wall_y'])/20).astype(int)  #honestly don't even need b if it's the same always (Make sure to check)\n",
    "wall_x_indices = torch.tensor(walls['Wall_x'].values)\n",
    "wall_y_indices = torch.tensor(walls['Wall_y'].values)"
   ]
  },
  {
   "cell_type": "code",
   "execution_count": 20,
   "metadata": {},
   "outputs": [
    {
     "data": {
      "text/plain": [
       "tensor([[1., 1., 1., 1., 1., 1., 1., 1., 1., 1.],\n",
       "        [1., 0., 0., 0., 0., 0., 0., 0., 0., 1.],\n",
       "        [1., 0., 0., 0., 1., 1., 0., 1., 0., 1.],\n",
       "        [1., 0., 0., 0., 0., 0., 0., 0., 1., 1.],\n",
       "        [1., 0., 0., 0., 0., 1., 1., 0., 1., 1.],\n",
       "        [1., 0., 1., 0., 0., 0., 0., 1., 0., 1.],\n",
       "        [1., 0., 0., 0., 1., 0., 1., 0., 0., 1.],\n",
       "        [1., 0., 0., 0., 0., 0., 1., 0., 0., 1.],\n",
       "        [1., 0., 0., 0., 0., 0., 1., 0., 0., 1.],\n",
       "        [1., 1., 1., 1., 1., 1., 1., 1., 1., 1.]])"
      ]
     },
     "execution_count": 20,
     "metadata": {},
     "output_type": "execute_result"
    }
   ],
   "source": [
    "wall_grid = torch.zeros(10,10)\n",
    "wall_grid[wall_x_indices,wall_y_indices] = 1\n",
    "wall_grid"
   ]
  },
  {
   "cell_type": "code",
   "execution_count": 63,
   "metadata": {},
   "outputs": [],
   "source": [
    "#naive representation of data for prediction:\n",
    "data = wall_grid.flatten()\n",
    "data = torch.cat((data,object_tensor/200,agent_change_indices[0]/200),0)"
   ]
  },
  {
   "cell_type": "code",
   "execution_count": 64,
   "metadata": {},
   "outputs": [
    {
     "data": {
      "text/plain": [
       "tensor([1.0000, 1.0000, 1.0000, 1.0000, 1.0000, 1.0000, 1.0000, 1.0000, 1.0000,\n",
       "        1.0000, 1.0000, 0.0000, 0.0000, 0.0000, 0.0000, 0.0000, 0.0000, 0.0000,\n",
       "        0.0000, 1.0000, 1.0000, 0.0000, 0.0000, 0.0000, 1.0000, 1.0000, 0.0000,\n",
       "        1.0000, 0.0000, 1.0000, 1.0000, 0.0000, 0.0000, 0.0000, 0.0000, 0.0000,\n",
       "        0.0000, 0.0000, 1.0000, 1.0000, 1.0000, 0.0000, 0.0000, 0.0000, 0.0000,\n",
       "        1.0000, 1.0000, 0.0000, 1.0000, 1.0000, 1.0000, 0.0000, 1.0000, 0.0000,\n",
       "        0.0000, 0.0000, 0.0000, 1.0000, 0.0000, 1.0000, 1.0000, 0.0000, 0.0000,\n",
       "        0.0000, 1.0000, 0.0000, 1.0000, 0.0000, 0.0000, 1.0000, 1.0000, 0.0000,\n",
       "        0.0000, 0.0000, 0.0000, 0.0000, 1.0000, 0.0000, 0.0000, 1.0000, 1.0000,\n",
       "        0.0000, 0.0000, 0.0000, 0.0000, 0.0000, 1.0000, 0.0000, 0.0000, 1.0000,\n",
       "        1.0000, 1.0000, 1.0000, 1.0000, 1.0000, 1.0000, 1.0000, 1.0000, 1.0000,\n",
       "        1.0000, 0.3700, 0.3000, 0.2400, 0.1250])"
      ]
     },
     "execution_count": 64,
     "metadata": {},
     "output_type": "execute_result"
    }
   ],
   "source": [
    "data"
   ]
  },
  {
   "cell_type": "code",
   "execution_count": 74,
   "metadata": {},
   "outputs": [],
   "source": [
    "def get_agent_change_indices(ep):\n",
    "    agent_changes = []\n",
    "    curr = ep[0]['agent']\n",
    "    for i,b in enumerate(ep):\n",
    "        if b['agent'] != curr:\n",
    "            curr = b['agent']\n",
    "            agent_changes.append(b['agent'][0])\n",
    "    return torch.tensor(agent_changes)\n"
   ]
  },
  {
   "cell_type": "code",
   "execution_count": 73,
   "metadata": {},
   "outputs": [
    {
     "data": {
      "text/plain": [
       "tensor([1.0000, 1.0000, 1.0000, 1.0000, 1.0000, 1.0000, 1.0000, 1.0000, 1.0000,\n",
       "        1.0000, 1.0000, 0.0000, 0.0000, 0.0000, 0.0000, 0.0000, 0.0000, 0.0000,\n",
       "        0.0000, 1.0000, 1.0000, 0.0000, 0.0000, 0.0000, 1.0000, 1.0000, 0.0000,\n",
       "        1.0000, 0.0000, 1.0000, 1.0000, 0.0000, 0.0000, 0.0000, 0.0000, 0.0000,\n",
       "        0.0000, 0.0000, 1.0000, 1.0000, 1.0000, 0.0000, 0.0000, 0.0000, 0.0000,\n",
       "        1.0000, 1.0000, 0.0000, 1.0000, 1.0000, 1.0000, 0.0000, 1.0000, 0.0000,\n",
       "        0.0000, 0.0000, 0.0000, 1.0000, 0.0000, 1.0000, 1.0000, 0.0000, 0.0000,\n",
       "        0.0000, 1.0000, 0.0000, 1.0000, 0.0000, 0.0000, 1.0000, 1.0000, 0.0000,\n",
       "        0.0000, 0.0000, 0.0000, 0.0000, 1.0000, 0.0000, 0.0000, 1.0000, 1.0000,\n",
       "        0.0000, 0.0000, 0.0000, 0.0000, 0.0000, 1.0000, 0.0000, 0.0000, 1.0000,\n",
       "        1.0000, 1.0000, 1.0000, 1.0000, 1.0000, 1.0000, 1.0000, 1.0000, 1.0000,\n",
       "        1.0000, 0.3700, 0.3000, 0.2400, 0.1250])"
      ]
     },
     "execution_count": 73,
     "metadata": {},
     "output_type": "execute_result"
    }
   ],
   "source": [
    "def naive_preprocess(episode):\n",
    "    static_data = episode[0]\n",
    "    #prob a more efficient way to process walls w/o dataframe or pandas\n",
    "    walls = (pd.DataFrame([a for a,b in static_data['walls']],columns=['Wall_x','Wall_y'])/20).astype(int) \n",
    "    wall_x_indices = torch.tensor(walls['Wall_x'].values)\n",
    "    wall_y_indices = torch.tensor(walls['Wall_y'].values)\n",
    "    wall_grid = torch.zeros(10,10)\n",
    "    wall_grid[wall_x_indices,wall_y_indices] = 1\n",
    "    agent_change_indices = get_agent_change_indices(episode)\n",
    "    object_tensor = torch.tensor(static_data['objects'][0][0])\n",
    "    data = wall_grid.flatten()\n",
    "    data = torch.cat((data,object_tensor/200,agent_change_indices[0]/200),0)\n",
    "    return data\n",
    "naive_preprocess(ep)"
   ]
  },
  {
   "cell_type": "code",
   "execution_count": null,
   "metadata": {},
   "outputs": [],
   "source": []
  }
 ],
 "metadata": {
  "kernelspec": {
   "display_name": "base",
   "language": "python",
   "name": "python3"
  },
  "language_info": {
   "codemirror_mode": {
    "name": "ipython",
    "version": 3
   },
   "file_extension": ".py",
   "mimetype": "text/x-python",
   "name": "python",
   "nbconvert_exporter": "python",
   "pygments_lexer": "ipython3",
   "version": "3.9.7"
  }
 },
 "nbformat": 4,
 "nbformat_minor": 2
}
