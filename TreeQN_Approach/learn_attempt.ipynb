{
 "cells": [
  {
   "cell_type": "code",
   "execution_count": 1,
   "metadata": {},
   "outputs": [],
   "source": [
    "import torch\n",
    "import torch.nn as nn \n",
    "import torch.nn.functional as F\n",
    "import numpy as np\n",
    "from torch.nn import Parameter\n",
    "\n",
    "from torch.optim import Adam\n",
    "\n",
    "from get_data import FrameDataset\n",
    "from treeqn import TreeQN"
   ]
  },
  {
   "cell_type": "code",
   "execution_count": 2,
   "metadata": {},
   "outputs": [
    {
     "name": "stdout",
     "output_type": "stream",
     "text": [
      "reading files of type preference in train\n",
      "9982\n"
     ]
    }
   ],
   "source": [
    "path = r'C:\\Users\\mikef\\Desktop\\BiB Work\\Heim_Transformers\\BIB-VT-main\\bib_train_preprocess'\n",
    "\n",
    "test = FrameDataset(path, 'cuda', types=['preference'], mode='train', process_data=0)"
   ]
  },
  {
   "cell_type": "code",
   "execution_count": 3,
   "metadata": {},
   "outputs": [],
   "source": [
    "input_shape = torch.zeros(1,3,84,84).shape\n",
    "num_actions = 4\n",
    "tree_depth = 3\n",
    "embedding_dim = 10\n",
    "td_lambda = 0.9\n",
    "\n",
    "model = TreeQN(input_shape=input_shape, num_actions=num_actions, tree_depth=tree_depth, embedding_dim=embedding_dim, td_lambda=td_lambda)\n",
    "optimizer = Adam(model.parameters(), lr=0.001)"
   ]
  },
  {
   "cell_type": "code",
   "execution_count": 17,
   "metadata": {},
   "outputs": [
    {
     "data": {
      "text/plain": [
       "torch.Size([3, 84, 84])"
      ]
     },
     "execution_count": 17,
     "metadata": {},
     "output_type": "execute_result"
    }
   ],
   "source": [
    "(test.__getitem__(0)[1][0][0]).shape #get a single frame of a trial, need to unsqueeze to put into model"
   ]
  },
  {
   "cell_type": "code",
   "execution_count": 19,
   "metadata": {},
   "outputs": [
    {
     "name": "stdout",
     "output_type": "stream",
     "text": [
      "q value shape:  torch.Size([1, 4])\n",
      "next state shape:  torch.Size([4, 3, 84, 84])\n"
     ]
    }
   ],
   "source": [
    "test_tensor = test.__getitem__(0)[1][0]\n",
    "q_values, next_states = model(test_tensor[0].unsqueeze(0))\n",
    "print(\"q value shape: \", q_values.shape)\n",
    "print(\"next state shape: \", next_states.shape)"
   ]
  },
  {
   "cell_type": "code",
   "execution_count": 20,
   "metadata": {},
   "outputs": [],
   "source": [
    "train_data = 1000\n",
    "test_data = 1500\n",
    "#sgd predicting next frame\n",
    "def train():\n",
    "    for i in range(train_data):\n",
    "        episode = test.__getitem__(i)[1]\n",
    "        for trial in episode:\n",
    "            if len(trial) < 2:\n",
    "                continue\n",
    "            for frame in range(len(trial)-1):\n",
    "                optimizer.zero_grad()\n",
    "                input = trial[frame].unsqueeze(0)\n",
    "                target = trial[frame+1].unsqueeze(0)\n",
    "\n",
    "                output_q_values, first_transition = model(input)\n",
    "                #loss is each predicted next state - target next state, weighted by q values of each action\n",
    "                loss = torch.abs(first_transition - target) #subtract predicted next\n",
    "                loss = loss.sum(dim=2) #sum along the z axis, we now have 4 action x batch_size sums\n",
    "                \n",
    "                loss = loss.transpose(0,1) #transpose to batch_size x 4 action\n",
    "                output_q_values = output_q_values.unsqueeze(-1)\n",
    "\n",
    "                #weigh by q values\n",
    "                loss = loss * output_q_values\n",
    "\n",
    "                #loss = sum of each action's weighted loss\n",
    "                #loss should go to zero as accuracy of prediction of next state q values increases\n",
    "                loss = loss.sum(dim=1)\n",
    "                loss = loss.sum()\n",
    "                loss.backward()\n",
    "                optimizer.step()\n",
    "train()\n",
    "\n",
    "\n",
    "\n"
   ]
  },
  {
   "cell_type": "code",
   "execution_count": 23,
   "metadata": {},
   "outputs": [],
   "source": [
    "def tester():\n",
    "    for i in range(train_data, test_data):\n",
    "        episode = test.__getitem__(i)[1]\n",
    "        for trial in episode:\n",
    "            if len(trial) < 2:\n",
    "                continue\n",
    "            for frame in range(len(trial)-1):\n",
    "                input = trial[frame].unsqueeze(0)\n",
    "                target = trial[frame+1].unsqueeze(0)\n",
    "\n",
    "                output_q_values, first_transition = model(input)\n",
    "                loss = torch.abs(first_transition - target)\n",
    "                loss = loss.sum(dim=2)\n",
    "                loss = loss.transpose(0,1)\n",
    "                output_q_values = output_q_values.unsqueeze(-1)\n",
    "                loss = loss * output_q_values\n",
    "                loss = loss.sum(dim=1)\n",
    "                loss = loss.sum()\n",
    "                print(np.round(loss.detach().numpy(),2))\n",
    "                \n",
    "                #break for now \n",
    "                return 0"
   ]
  },
  {
   "cell_type": "code",
   "execution_count": 24,
   "metadata": {},
   "outputs": [
    {
     "name": "stdout",
     "output_type": "stream",
     "text": [
      "-4.8694095e+24\n"
     ]
    },
    {
     "data": {
      "text/plain": [
       "0"
      ]
     },
     "execution_count": 24,
     "metadata": {},
     "output_type": "execute_result"
    }
   ],
   "source": [
    "tester()"
   ]
  },
  {
   "cell_type": "code",
   "execution_count": null,
   "metadata": {},
   "outputs": [],
   "source": []
  }
 ],
 "metadata": {
  "kernelspec": {
   "display_name": "base",
   "language": "python",
   "name": "python3"
  },
  "language_info": {
   "codemirror_mode": {
    "name": "ipython",
    "version": 3
   },
   "file_extension": ".py",
   "mimetype": "text/x-python",
   "name": "python",
   "nbconvert_exporter": "python",
   "pygments_lexer": "ipython3",
   "version": "3.9.7"
  }
 },
 "nbformat": 4,
 "nbformat_minor": 2
}
