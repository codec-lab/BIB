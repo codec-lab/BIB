{
 "cells": [
  {
   "cell_type": "code",
   "execution_count": 1,
   "metadata": {},
   "outputs": [
    {
     "name": "stderr",
     "output_type": "stream",
     "text": [
      "c:\\Users\\mikef\\anaconda3\\lib\\site-packages\\scipy\\__init__.py:146: UserWarning: A NumPy version >=1.16.5 and <1.23.0 is required for this version of SciPy (detected version 1.26.4\n",
      "  warnings.warn(f\"A NumPy version >={np_minversion} and <{np_maxversion}\"\n"
     ]
    }
   ],
   "source": [
    "import torch\n",
    "import torch.nn as nn\n",
    "import numpy as np\n",
    "from torch.functional import F\n",
    "import random\n",
    "from scratch_model import AutoEncoder\n",
    "from torch.optim import Adam\n",
    "import pandas as pd\n",
    "import matplotlib.pyplot as plt\n",
    "import image_all\n",
    "from sklearn.manifold import MDS\n",
    "import plotly.express as px\n",
    "import plotly.graph_objects as go\n",
    "\n"
   ]
  },
  {
   "cell_type": "markdown",
   "metadata": {},
   "source": [
    "<h1>Model"
   ]
  },
  {
   "cell_type": "code",
   "execution_count": 3,
   "metadata": {},
   "outputs": [],
   "source": [
    "train_data, test_data = image_all.get_all_possible_batched(batch_size =5) #Checkerboard of all possible agent start locations (1,5,5 tensors)"
   ]
  },
  {
   "cell_type": "code",
   "execution_count": 5,
   "metadata": {},
   "outputs": [],
   "source": [
    "in_shape = train_data[0].shape\n",
    "embed_dim = 64 #Seems like optimal one  \n",
    "enc_dropout = 0\n",
    "dec_dropout = 0.5\n",
    "model = AutoEncoder(in_shape, embed_dim,dec_drop_out=dec_dropout, enc_drop_out=enc_dropout)\n",
    "optimizer = Adam(model.parameters(), lr=1e-4,weight_decay=1e-5)"
   ]
  },
  {
   "cell_type": "markdown",
   "metadata": {},
   "source": [
    "<h1>Autoencoder Training"
   ]
  },
  {
   "cell_type": "code",
   "execution_count": 6,
   "metadata": {},
   "outputs": [
    {
     "name": "stdout",
     "output_type": "stream",
     "text": [
      "VALID LOSS 0 0.5518196357464126\n",
      "Train Loss 0 0.8718959886806713 \n",
      "\n",
      "VALID LOSS 30 0.21302537514591224\n",
      "Train Loss 30 0.19494399093529738 \n",
      "\n",
      "VALID LOSS 60 0.1518085830029491\n",
      "Train Loss 60 0.13447484407232982 \n",
      "\n",
      "VALID LOSS 90 0.1302614836843964\n",
      "Train Loss 90 0.11753879105407476 \n",
      "\n",
      "VALID LOSS 120 0.11708829586204753\n",
      "Train Loss 120 0.11113904938355795 \n",
      "\n",
      "VALID LOSS 150 0.10582184542351575\n",
      "Train Loss 150 0.09887318733452549 \n",
      "\n",
      "VALID LOSS 180 0.09732331076514823\n",
      "Train Loss 180 0.09512636350959518 \n",
      "\n",
      "VALID LOSS 199 0.09624854108642007\n",
      "Train Loss 199 0.08891112260369065 \n",
      "\n"
     ]
    }
   ],
   "source": [
    "image_all.train_autoencoder(model, optimizer, train_data, test_data, epochs=200)"
   ]
  },
  {
   "cell_type": "code",
   "execution_count": 7,
   "metadata": {},
   "outputs": [
    {
     "name": "stdout",
     "output_type": "stream",
     "text": [
      "0.04    199\n",
      "0.00     89\n",
      "dtype: int64\n"
     ]
    },
    {
     "data": {
      "image/png": "[encoded data removed]",
      "text/plain": [
       "<Figure size 432x288 with 2 Axes>"
      ]
     },
     "metadata": {
      "needs_background": "light"
     },
     "output_type": "display_data"
    },
    {
     "data": {
      "image/png": "[encoded data removed]",
      "text/plain": [
       "<Figure size 432x288 with 2 Axes>"
      ]
     },
     "metadata": {
      "needs_background": "light"
     },
     "output_type": "display_data"
    }
   ],
   "source": [
    "losses = []\n",
    "for traj in test_data:\n",
    "    for tensor in traj:\n",
    "        model.eval()\n",
    "        tensor = tensor.unsqueeze(0)\n",
    "        decoded_tensor = model(tensor) \n",
    "        loss = F.mse_loss(torch.round(decoded_tensor), tensor)\n",
    "        losses.append(loss.item())\n",
    "print(pd.Series(losses).value_counts())\n",
    "test_example= test_data[50][0].unsqueeze(0)\n",
    "decoded_tensor = model(test_example)\n",
    "image_all.view_tensor(test_example[0][0])\n",
    "image_all.view_tensor(decoded_tensor[0][0].detach())"
   ]
  },
  {
   "cell_type": "markdown",
   "metadata": {},
   "source": [
    "<h1>Similarity Scores"
   ]
  },
  {
   "cell_type": "code",
   "execution_count": 8,
   "metadata": {},
   "outputs": [],
   "source": [
    "#Want, a similiratiy matrix. First, get similarity data.\n",
    "latent_tensors, decoded_tensors, grid_tensors = image_all.get_fixed_goal_data(model,0)"
   ]
  },
  {
   "cell_type": "code",
   "execution_count": 9,
   "metadata": {},
   "outputs": [
    {
     "data": {
      "text/plain": [
       "(25, 25, 25)"
      ]
     },
     "execution_count": 9,
     "metadata": {},
     "output_type": "execute_result"
    }
   ],
   "source": [
    "len(latent_tensors), len(decoded_tensors), len(grid_tensors)"
   ]
  },
  {
   "cell_type": "code",
   "execution_count": 10,
   "metadata": {},
   "outputs": [
    {
     "data": {
      "text/plain": [
       "(torch.Size([5, 5]), torch.Size([1, 64]), torch.Size([1, 1, 5, 5]))"
      ]
     },
     "execution_count": 10,
     "metadata": {},
     "output_type": "execute_result"
    }
   ],
   "source": [
    "grid_tensors[0].shape, latent_tensors[0].shape, decoded_tensors[0].shape   "
   ]
  },
  {
   "cell_type": "code",
   "execution_count": 17,
   "metadata": {},
   "outputs": [],
   "source": [
    "#Get cosine similarity matrix of how similar the grids are to each other. Should be 25x25 matrix\n",
    "grid_similarity_matrix = []\n",
    "latent_tensors_similarity_matrix = []\n",
    "decoded_tensors_similarity_matrix = []\n",
    "for i in range(len(grid_tensors)):\n",
    "    grid_row = []\n",
    "    latent_row = []\n",
    "    decoded_row = []\n",
    "    for j in range(len(grid_tensors)):\n",
    "        grid_row.append(F.cosine_similarity(grid_tensors[i].flatten(), grid_tensors[j].flatten(), dim=0).item())\n",
    "        latent_row.append(F.cosine_similarity(latent_tensors[i].flatten(), latent_tensors[j].flatten(), dim=0).item())\n",
    "        decoded_row.append(F.cosine_similarity(decoded_tensors[i].flatten(), decoded_tensors[j].flatten(), dim=0).item())\n",
    "    grid_similarity_matrix.append(grid_row)\n",
    "    latent_tensors_similarity_matrix.append(latent_row)\n",
    "    decoded_tensors_similarity_matrix.append(decoded_row)\n",
    "\n",
    "grid_similarity_matrix = np.array(grid_similarity_matrix)\n",
    "latent_tensors_similarity_matrix = np.array(latent_tensors_similarity_matrix)\n",
    "decoded_tensors_similarity_matrix = np.array(decoded_tensors_similarity_matrix)\n",
    "\n"
   ]
  },
  {
   "cell_type": "code",
   "execution_count": 22,
   "metadata": {},
   "outputs": [],
   "source": [
    "#Get MDS of each similarity matrix\n",
    "mds_grid = MDS(n_components=2, dissimilarity='precomputed',normalized_stress='auto')\n",
    "mds_grid.fit(grid_similarity_matrix)\n",
    "\n",
    "mds_latent = MDS(n_components=2, dissimilarity='precomputed',normalized_stress='auto')\n",
    "mds_latent.fit(latent_tensors_similarity_matrix)\n",
    "\n",
    "mds_decoded = MDS(n_components=2, dissimilarity='precomputed',normalized_stress='auto')\n",
    "mds_decoded.fit(decoded_tensors_similarity_matrix)\n",
    "\n",
    "mds_grid_embedding = mds_grid.embedding_\n",
    "mds_latent_embedding = mds_latent.embedding_\n",
    "mds_decoded_embedding = mds_decoded.embedding_"
   ]
  },
  {
   "cell_type": "code",
   "execution_count": 23,
   "metadata": {},
   "outputs": [
    {
     "data": {
      "application/vnd.plotly.v1+json": {
       "config": {
        "plotlyServerURL": "https://plot.ly"
       },
       "data": [
        {
         "marker": {
          "color": "blue"
         },
         "mode": "markers+text",
         "name": "Grid Embedding",
         "text": [
          "(0,0)",
          "(0,1)",
          "(0,2)",
          "(0,3)",
          "(0,4)",
          "(1,0)",
          "(1,1)",
          "(1,2)",
          "(1,3)",
          "(1,4)",
          "(2,0)",
          "(2,1)",
          "(2,2)",
          "(2,3)",
          "(2,4)",
          "(3,0)",
          "(3,1)",
          "(3,2)",
          "(3,3)",
          "(3,4)",
          "(4,0)",
          "(4,1)",
          "(4,2)",
          "(4,3)",
          "(4,4)"
         ],
         "textposition": "top center",
         "type": "scatter",
         "x": [
          0.15130825427261316,
          0.29023640989953675,
          -0.3805183863968325,
          0.33386088336642594,
          0.32017692506408724,
          -0.13171735206005897,
          0.006328664987290985,
          -0.24023904591899958,
          -0.005117552763050724,
          -0.3423987031393155,
          -0.24603021870319727,
          0.2103532538909977,
          -0.2482555099345028,
          0.12725573950133318,
          -0.33170683976138726,
          -0.061424439059508895,
          -0.1318546340174864,
          0.19277427367517164,
          0.04243669012842891,
          0.1520860310936582,
          0.37406763443159674,
          -0.10640122900375279,
          0.031525164257974185,
          0.2241319330342591,
          -0.23087794684597282
         ],
         "y": [
          -0.61620384991828,
          -0.14243861179584613,
          0.024069211543795613,
          0.05254764943480208,
          0.22212234721633978,
          0.16586888273369152,
          0.012244045026656531,
          -0.2698282358553692,
          0.36800252411382767,
          -0.15784887084286423,
          0.27645172660006206,
          0.2225048909736052,
          0.034876382627059326,
          -0.16815208200349427,
          0.17091691329226572,
          -0.15308658284195453,
          0.3479731198973991,
          0.06458991260967076,
          0.23347279021599715,
          0.35176458264082117,
          -0.051919348380443875,
          -0.32044457810542637,
          -0.2982970178375691,
          -0.2572591142261205,
          -0.11192668711860358
         ]
        },
        {
         "marker": {
          "color": "green"
         },
         "mode": "markers+text",
         "name": "Latent Embedding",
         "textposition": "top center",
         "type": "scatter",
         "x": [
          -0.1963414034212788,
          -0.36429857344758576,
          0.33911180798392054,
          0.5030646297610679,
          0.17986300507175113,
          -0.08274137508525796,
          -0.32468599631460376,
          -0.1349144384026346,
          0.5248900848748727,
          0.09333954327373734,
          0.47834711209209124,
          -0.5764776653389643,
          0.0018016436288678505,
          -0.3979307608772954,
          0.02402861586437596,
          0.26067116476917307,
          -0.5423607022328659,
          -0.22842271782211598,
          0.4265816976344251,
          -0.4309247893776473,
          -0.5332937313132325,
          0.18443069666906084,
          0.5962127315598106,
          0.2959548790075557,
          -0.09590545855740967
         ],
         "y": [
          -0.6662936535372606,
          -0.10855721950825047,
          0.1963568133747316,
          -0.042846520832032775,
          -0.34553575016591387,
          -0.06197032244469834,
          0.19275076363620558,
          -0.2685959138527419,
          -0.21147646163256903,
          0.5488748892517501,
          0.3903521487997987,
          -0.016318034703466437,
          -0.5174964852107555,
          -0.4405943538537745,
          0.25424050509161117,
          -0.5784977790970045,
          0.20792371232472318,
          0.42557579721913485,
          -0.3786675802303867,
          0.4500336582860242,
          -0.27077997431565703,
          -0.016712032039566383,
          0.13960925138858807,
          0.5668511207235951,
          0.5517734213291822
         ]
        },
        {
         "marker": {
          "color": "red"
         },
         "mode": "markers+text",
         "name": "Decoded Embedding",
         "textposition": "top center",
         "type": "scatter",
         "x": [
          -0.5872565797827937,
          -0.17675798915476026,
          0.036255228141496086,
          0.238780966329794,
          -0.2887870914541734,
          -0.26780528315859964,
          -0.2317947670318873,
          0.17300398468995246,
          0.07367386244566157,
          -0.14700394277435155,
          0.3594596453417249,
          -0.007165622923060498,
          -0.07567745537072634,
          -0.08428460279393205,
          -0.14073620778819146,
          -0.062440371321269346,
          0.019968181963343507,
          0.20423667998173556,
          0.1062618881362075,
          -0.33136849118059275,
          0.31555728359026713,
          0.1207093167986184,
          0.3679513447291037,
          0.06316117709268858,
          0.3220588454940297
         ],
         "y": [
          -0.1539622736545702,
          -0.09933266693260309,
          -0.4697385742451266,
          0.17443645249465756,
          -0.1304915708272941,
          0.27306789671975884,
          0.08147777560725303,
          0.2770618419904848,
          -0.1954280604951192,
          -0.3188175445628253,
          0.007797852777381617,
          0.08901634140101976,
          0.3966179591017432,
          -0.18640550373198495,
          0.2412131627419662,
          -0.06639064393629177,
          0.16871571894865434,
          0.043878657986789464,
          -0.057728619768766365,
          0.07596542871567259,
          -0.2689033501283878,
          -0.32275171280577647,
          0.20753741448046004,
          0.3551517412873516,
          -0.12198772316440701
         ]
        }
       ],
       "layout": {
        "legend": {
         "orientation": "h",
         "x": 1,
         "xanchor": "right",
         "y": 1.02,
         "yanchor": "bottom"
        },
        "template": {
         "data": {
          "bar": [
           {
            "error_x": {
             "color": "#2a3f5f"
            },
            "error_y": {
             "color": "#2a3f5f"
            },
            "marker": {
             "line": {
              "color": "#E5ECF6",
              "width": 0.5
             },
             "pattern": {
              "fillmode": "overlay",
              "size": 10,
              "solidity": 0.2
             }
            },
            "type": "bar"
           }
          ],
          "barpolar": [
           {
            "marker": {
             "line": {
              "color": "#E5ECF6",
              "width": 0.5
             },
             "pattern": {
              "fillmode": "overlay",
              "size": 10,
              "solidity": 0.2
             }
            },
            "type": "barpolar"
           }
          ],
          "carpet": [
           {
            "aaxis": {
             "endlinecolor": "#2a3f5f",
             "gridcolor": "white",
             "linecolor": "white",
             "minorgridcolor": "white",
             "startlinecolor": "#2a3f5f"
            },
            "baxis": {
             "endlinecolor": "#2a3f5f",
             "gridcolor": "white",
             "linecolor": "white",
             "minorgridcolor": "white",
             "startlinecolor": "#2a3f5f"
            },
            "type": "carpet"
           }
          ],
          "choropleth": [
           {
            "colorbar": {
             "outlinewidth": 0,
             "ticks": ""
            },
            "type": "choropleth"
           }
          ],
          "contour": [
           {
            "colorbar": {
             "outlinewidth": 0,
             "ticks": ""
            },
            "colorscale": [
             [
              0,
              "#0d0887"
             ],
             [
              0.1111111111111111,
              "#46039f"
             ],
             [
              0.2222222222222222,
              "#7201a8"
             ],
             [
              0.3333333333333333,
              "#9c179e"
             ],
             [
              0.4444444444444444,
              "#bd3786"
             ],
             [
              0.5555555555555556,
              "#d8576b"
             ],
             [
              0.6666666666666666,
              "#ed7953"
             ],
             [
              0.7777777777777778,
              "#fb9f3a"
             ],
             [
              0.8888888888888888,
              "#fdca26"
             ],
             [
              1,
              "#f0f921"
             ]
            ],
            "type": "contour"
           }
          ],
          "contourcarpet": [
           {
            "colorbar": {
             "outlinewidth": 0,
             "ticks": ""
            },
            "type": "contourcarpet"
           }
          ],
          "heatmap": [
           {
            "colorbar": {
             "outlinewidth": 0,
             "ticks": ""
            },
            "colorscale": [
             [
              0,
              "#0d0887"
             ],
             [
              0.1111111111111111,
              "#46039f"
             ],
             [
              0.2222222222222222,
              "#7201a8"
             ],
             [
              0.3333333333333333,
              "#9c179e"
             ],
             [
              0.4444444444444444,
              "#bd3786"
             ],
             [
              0.5555555555555556,
              "#d8576b"
             ],
             [
              0.6666666666666666,
              "#ed7953"
             ],
             [
              0.7777777777777778,
              "#fb9f3a"
             ],
             [
              0.8888888888888888,
              "#fdca26"
             ],
             [
              1,
              "#f0f921"
             ]
            ],
            "type": "heatmap"
           }
          ],
          "heatmapgl": [
           {
            "colorbar": {
             "outlinewidth": 0,
             "ticks": ""
            },
            "colorscale": [
             [
              0,
              "#0d0887"
             ],
             [
              0.1111111111111111,
              "#46039f"
             ],
             [
              0.2222222222222222,
              "#7201a8"
             ],
             [
              0.3333333333333333,
              "#9c179e"
             ],
             [
              0.4444444444444444,
              "#bd3786"
             ],
             [
              0.5555555555555556,
              "#d8576b"
             ],
             [
              0.6666666666666666,
              "#ed7953"
             ],
             [
              0.7777777777777778,
              "#fb9f3a"
             ],
             [
              0.8888888888888888,
              "#fdca26"
             ],
             [
              1,
              "#f0f921"
             ]
            ],
            "type": "heatmapgl"
           }
          ],
          "histogram": [
           {
            "marker": {
             "pattern": {
              "fillmode": "overlay",
              "size": 10,
              "solidity": 0.2
             }
            },
            "type": "histogram"
           }
          ],
          "histogram2d": [
           {
            "colorbar": {
             "outlinewidth": 0,
             "ticks": ""
            },
            "colorscale": [
             [
              0,
              "#0d0887"
             ],
             [
              0.1111111111111111,
              "#46039f"
             ],
             [
              0.2222222222222222,
              "#7201a8"
             ],
             [
              0.3333333333333333,
              "#9c179e"
             ],
             [
              0.4444444444444444,
              "#bd3786"
             ],
             [
              0.5555555555555556,
              "#d8576b"
             ],
             [
              0.6666666666666666,
              "#ed7953"
             ],
             [
              0.7777777777777778,
              "#fb9f3a"
             ],
             [
              0.8888888888888888,
              "#fdca26"
             ],
             [
              1,
              "#f0f921"
             ]
            ],
            "type": "histogram2d"
           }
          ],
          "histogram2dcontour": [
           {
            "colorbar": {
             "outlinewidth": 0,
             "ticks": ""
            },
            "colorscale": [
             [
              0,
              "#0d0887"
             ],
             [
              0.1111111111111111,
              "#46039f"
             ],
             [
              0.2222222222222222,
              "#7201a8"
             ],
             [
              0.3333333333333333,
              "#9c179e"
             ],
             [
              0.4444444444444444,
              "#bd3786"
             ],
             [
              0.5555555555555556,
              "#d8576b"
             ],
             [
              0.6666666666666666,
              "#ed7953"
             ],
             [
              0.7777777777777778,
              "#fb9f3a"
             ],
             [
              0.8888888888888888,
              "#fdca26"
             ],
             [
              1,
              "#f0f921"
             ]
            ],
            "type": "histogram2dcontour"
           }
          ],
          "mesh3d": [
           {
            "colorbar": {
             "outlinewidth": 0,
             "ticks": ""
            },
            "type": "mesh3d"
           }
          ],
          "parcoords": [
           {
            "line": {
             "colorbar": {
              "outlinewidth": 0,
              "ticks": ""
             }
            },
            "type": "parcoords"
           }
          ],
          "pie": [
           {
            "automargin": true,
            "type": "pie"
           }
          ],
          "scatter": [
           {
            "fillpattern": {
             "fillmode": "overlay",
             "size": 10,
             "solidity": 0.2
            },
            "type": "scatter"
           }
          ],
          "scatter3d": [
           {
            "line": {
             "colorbar": {
              "outlinewidth": 0,
              "ticks": ""
             }
            },
            "marker": {
             "colorbar": {
              "outlinewidth": 0,
              "ticks": ""
             }
            },
            "type": "scatter3d"
           }
          ],
          "scattercarpet": [
           {
            "marker": {
             "colorbar": {
              "outlinewidth": 0,
              "ticks": ""
             }
            },
            "type": "scattercarpet"
           }
          ],
          "scattergeo": [
           {
            "marker": {
             "colorbar": {
              "outlinewidth": 0,
              "ticks": ""
             }
            },
            "type": "scattergeo"
           }
          ],
          "scattergl": [
           {
            "marker": {
             "colorbar": {
              "outlinewidth": 0,
              "ticks": ""
             }
            },
            "type": "scattergl"
           }
          ],
          "scattermapbox": [
           {
            "marker": {
             "colorbar": {
              "outlinewidth": 0,
              "ticks": ""
             }
            },
            "type": "scattermapbox"
           }
          ],
          "scatterpolar": [
           {
            "marker": {
             "colorbar": {
              "outlinewidth": 0,
              "ticks": ""
             }
            },
            "type": "scatterpolar"
           }
          ],
          "scatterpolargl": [
           {
            "marker": {
             "colorbar": {
              "outlinewidth": 0,
              "ticks": ""
             }
            },
            "type": "scatterpolargl"
           }
          ],
          "scatterternary": [
           {
            "marker": {
             "colorbar": {
              "outlinewidth": 0,
              "ticks": ""
             }
            },
            "type": "scatterternary"
           }
          ],
          "surface": [
           {
            "colorbar": {
             "outlinewidth": 0,
             "ticks": ""
            },
            "colorscale": [
             [
              0,
              "#0d0887"
             ],
             [
              0.1111111111111111,
              "#46039f"
             ],
             [
              0.2222222222222222,
              "#7201a8"
             ],
             [
              0.3333333333333333,
              "#9c179e"
             ],
             [
              0.4444444444444444,
              "#bd3786"
             ],
             [
              0.5555555555555556,
              "#d8576b"
             ],
             [
              0.6666666666666666,
              "#ed7953"
             ],
             [
              0.7777777777777778,
              "#fb9f3a"
             ],
             [
              0.8888888888888888,
              "#fdca26"
             ],
             [
              1,
              "#f0f921"
             ]
            ],
            "type": "surface"
           }
          ],
          "table": [
           {
            "cells": {
             "fill": {
              "color": "#EBF0F8"
             },
             "line": {
              "color": "white"
             }
            },
            "header": {
             "fill": {
              "color": "#C8D4E3"
             },
             "line": {
              "color": "white"
             }
            },
            "type": "table"
           }
          ]
         },
         "layout": {
          "annotationdefaults": {
           "arrowcolor": "#2a3f5f",
           "arrowhead": 0,
           "arrowwidth": 1
          },
          "autotypenumbers": "strict",
          "coloraxis": {
           "colorbar": {
            "outlinewidth": 0,
            "ticks": ""
           }
          },
          "colorscale": {
           "diverging": [
            [
             0,
             "#8e0152"
            ],
            [
             0.1,
             "#c51b7d"
            ],
            [
             0.2,
             "#de77ae"
            ],
            [
             0.3,
             "#f1b6da"
            ],
            [
             0.4,
             "#fde0ef"
            ],
            [
             0.5,
             "#f7f7f7"
            ],
            [
             0.6,
             "#e6f5d0"
            ],
            [
             0.7,
             "#b8e186"
            ],
            [
             0.8,
             "#7fbc41"
            ],
            [
             0.9,
             "#4d9221"
            ],
            [
             1,
             "#276419"
            ]
           ],
           "sequential": [
            [
             0,
             "#0d0887"
            ],
            [
             0.1111111111111111,
             "#46039f"
            ],
            [
             0.2222222222222222,
             "#7201a8"
            ],
            [
             0.3333333333333333,
             "#9c179e"
            ],
            [
             0.4444444444444444,
             "#bd3786"
            ],
            [
             0.5555555555555556,
             "#d8576b"
            ],
            [
             0.6666666666666666,
             "#ed7953"
            ],
            [
             0.7777777777777778,
             "#fb9f3a"
            ],
            [
             0.8888888888888888,
             "#fdca26"
            ],
            [
             1,
             "#f0f921"
            ]
           ],
           "sequentialminus": [
            [
             0,
             "#0d0887"
            ],
            [
             0.1111111111111111,
             "#46039f"
            ],
            [
             0.2222222222222222,
             "#7201a8"
            ],
            [
             0.3333333333333333,
             "#9c179e"
            ],
            [
             0.4444444444444444,
             "#bd3786"
            ],
            [
             0.5555555555555556,
             "#d8576b"
            ],
            [
             0.6666666666666666,
             "#ed7953"
            ],
            [
             0.7777777777777778,
             "#fb9f3a"
            ],
            [
             0.8888888888888888,
             "#fdca26"
            ],
            [
             1,
             "#f0f921"
            ]
           ]
          },
          "colorway": [
           "#636efa",
           "#EF553B",
           "#00cc96",
           "#ab63fa",
           "#FFA15A",
           "#19d3f3",
           "#FF6692",
           "#B6E880",
           "#FF97FF",
           "#FECB52"
          ],
          "font": {
           "color": "#2a3f5f"
          },
          "geo": {
           "bgcolor": "white",
           "lakecolor": "white",
           "landcolor": "#E5ECF6",
           "showlakes": true,
           "showland": true,
           "subunitcolor": "white"
          },
          "hoverlabel": {
           "align": "left"
          },
          "hovermode": "closest",
          "mapbox": {
           "style": "light"
          },
          "paper_bgcolor": "white",
          "plot_bgcolor": "#E5ECF6",
          "polar": {
           "angularaxis": {
            "gridcolor": "white",
            "linecolor": "white",
            "ticks": ""
           },
           "bgcolor": "#E5ECF6",
           "radialaxis": {
            "gridcolor": "white",
            "linecolor": "white",
            "ticks": ""
           }
          },
          "scene": {
           "xaxis": {
            "backgroundcolor": "#E5ECF6",
            "gridcolor": "white",
            "gridwidth": 2,
            "linecolor": "white",
            "showbackground": true,
            "ticks": "",
            "zerolinecolor": "white"
           },
           "yaxis": {
            "backgroundcolor": "#E5ECF6",
            "gridcolor": "white",
            "gridwidth": 2,
            "linecolor": "white",
            "showbackground": true,
            "ticks": "",
            "zerolinecolor": "white"
           },
           "zaxis": {
            "backgroundcolor": "#E5ECF6",
            "gridcolor": "white",
            "gridwidth": 2,
            "linecolor": "white",
            "showbackground": true,
            "ticks": "",
            "zerolinecolor": "white"
           }
          },
          "shapedefaults": {
           "line": {
            "color": "#2a3f5f"
           }
          },
          "ternary": {
           "aaxis": {
            "gridcolor": "white",
            "linecolor": "white",
            "ticks": ""
           },
           "baxis": {
            "gridcolor": "white",
            "linecolor": "white",
            "ticks": ""
           },
           "bgcolor": "#E5ECF6",
           "caxis": {
            "gridcolor": "white",
            "linecolor": "white",
            "ticks": ""
           }
          },
          "title": {
           "x": 0.05
          },
          "xaxis": {
           "automargin": true,
           "gridcolor": "white",
           "linecolor": "white",
           "ticks": "",
           "title": {
            "standoff": 15
           },
           "zerolinecolor": "white",
           "zerolinewidth": 2
          },
          "yaxis": {
           "automargin": true,
           "gridcolor": "white",
           "linecolor": "white",
           "ticks": "",
           "title": {
            "standoff": 15
           },
           "zerolinecolor": "white",
           "zerolinewidth": 2
          }
         }
        },
        "title": {
         "text": "MDS of Grid Similarity"
        }
       }
      }
     },
     "metadata": {},
     "output_type": "display_data"
    }
   ],
   "source": [
    "grid_coordinates = [(i//5, i%5) for i in range(25)]\n",
    "# Create an empty figure\n",
    "fig = go.Figure()\n",
    "\n",
    "# Add the MDS embeddings for the grid\n",
    "fig.add_trace(go.Scatter(\n",
    "    x=mds_grid_embedding[:, 0],\n",
    "    y=mds_grid_embedding[:, 1],\n",
    "    mode='markers+text',\n",
    "    marker=dict(color='blue'),\n",
    "    text=[f\"({x},{y})\" for i, (x, y) in enumerate(grid_coordinates)],\n",
    "    name=\"Grid Embedding\"\n",
    "))\n",
    "\n",
    "# Add the MDS embeddings for the latent space\n",
    "fig.add_trace(go.Scatter(\n",
    "    x=mds_latent_embedding[:, 0],\n",
    "    y=mds_latent_embedding[:, 1],\n",
    "    mode='markers+text',\n",
    "    marker=dict(color='green'),\n",
    "    #text=[f\"({x},{y})\" for i, (x, y) in enumerate(grid_coordinates)],\n",
    "    name=\"Latent Embedding\"\n",
    "))\n",
    "\n",
    "# Add the MDS embeddings for the decoded space\n",
    "fig.add_trace(go.Scatter(\n",
    "    x=mds_decoded_embedding[:, 0],\n",
    "    y=mds_decoded_embedding[:, 1],\n",
    "    mode='markers+text',\n",
    "    marker=dict(color='red'),\n",
    "    #text=[f\"({x},{y})\" for i, (x, y) in enumerate(grid_coordinates)],\n",
    "    name=\"Decoded Embedding\"\n",
    "))\n",
    "\n",
    "# Update the layout\n",
    "fig.update_layout(\n",
    "    title=\"MDS of Grid Similarity\",\n",
    "    legend=dict(orientation=\"h\", yanchor=\"bottom\", y=1.02, xanchor=\"right\", x=1)\n",
    ")\n",
    "\n",
    "fig.update_traces(textposition='top center')\n",
    "\n",
    "# Show the figure\n",
    "fig.show()"
   ]
  }
 ],
 "metadata": {
  "kernelspec": {
   "display_name": "base",
   "language": "python",
   "name": "python3"
  },
  "language_info": {
   "codemirror_mode": {
    "name": "ipython",
    "version": 3
   },
   "file_extension": ".py",
   "mimetype": "text/x-python",
   "name": "python",
   "nbconvert_exporter": "python",
   "pygments_lexer": "ipython3",
   "version": "3.9.7"
  }
 },
 "nbformat": 4,
 "nbformat_minor": 2
}
