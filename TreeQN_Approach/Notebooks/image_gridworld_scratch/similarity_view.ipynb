{
 "cells": [
  {
   "cell_type": "code",
   "execution_count": 1,
   "metadata": {},
   "outputs": [
    {
     "name": "stderr",
     "output_type": "stream",
     "text": [
      "c:\\Users\\mikef\\anaconda3\\lib\\site-packages\\scipy\\__init__.py:146: UserWarning: A NumPy version >=1.16.5 and <1.23.0 is required for this version of SciPy (detected version 1.26.4\n",
      "  warnings.warn(f\"A NumPy version >={np_minversion} and <{np_maxversion}\"\n"
     ]
    }
   ],
   "source": [
    "import torch\n",
    "import torch.nn as nn\n",
    "import numpy as np\n",
    "from torch.functional import F\n",
    "import random\n",
    "from scratch_model import AutoEncoder\n",
    "from torch.optim import Adam\n",
    "import pandas as pd\n",
    "import matplotlib.pyplot as plt\n",
    "import image_all\n",
    "from sklearn.manifold import MDS\n",
    "import plotly.express as px\n",
    "import plotly.graph_objects as go\n",
    "\n"
   ]
  },
  {
   "cell_type": "markdown",
   "metadata": {},
   "source": [
    "<h1>Model"
   ]
  },
  {
   "cell_type": "code",
   "execution_count": 2,
   "metadata": {},
   "outputs": [],
   "source": [
    "train_data, test_data = image_all.get_all_possible_batched(batch_size =5) #Checkerboard of all possible agent start locations (1,5,5 tensors)"
   ]
  },
  {
   "cell_type": "code",
   "execution_count": 3,
   "metadata": {},
   "outputs": [],
   "source": [
    "in_shape = train_data[0].shape\n",
    "embed_dim = 64 #Seems like optimal one  \n",
    "enc_dropout = 0\n",
    "dec_dropout = 0.5\n",
    "model = AutoEncoder(in_shape, embed_dim,dec_drop_out=dec_dropout, enc_drop_out=enc_dropout)\n",
    "optimizer = Adam(model.parameters(), lr=1e-4,weight_decay=1e-5)"
   ]
  },
  {
   "cell_type": "markdown",
   "metadata": {},
   "source": [
    "<h1>Autoencoder Training"
   ]
  },
  {
   "cell_type": "code",
   "execution_count": 4,
   "metadata": {},
   "outputs": [
    {
     "name": "stdout",
     "output_type": "stream",
     "text": [
      "VALID LOSS 0 0.46754030649072703\n",
      "Train Loss 0 0.7621381471992714 \n",
      "\n",
      "VALID LOSS 30 0.21418864230581883\n",
      "Train Loss 30 0.17979791179127436 \n",
      "\n",
      "VALID LOSS 60 0.1499920216486533\n",
      "Train Loss 60 0.12941514362935178 \n",
      "\n",
      "VALID LOSS 90 0.1278967383239262\n",
      "Train Loss 90 0.11436713023788181 \n",
      "\n",
      "VALID LOSS 120 0.11237829796316262\n",
      "Train Loss 120 0.10383439280351316 \n",
      "\n",
      "VALID LOSS 150 0.10802141213719138\n",
      "Train Loss 150 0.09566743309073308 \n",
      "\n",
      "VALID LOSS 180 0.08868921480200043\n",
      "Train Loss 180 0.09279391094840794 \n",
      "\n",
      "VALID LOSS 199 0.08913852245963486\n",
      "Train Loss 199 0.08882016409882233 \n",
      "\n"
     ]
    }
   ],
   "source": [
    "image_all.train_autoencoder(model, optimizer, train_data, test_data, epochs=200)"
   ]
  },
  {
   "cell_type": "code",
   "execution_count": 7,
   "metadata": {},
   "outputs": [
    {
     "name": "stdout",
     "output_type": "stream",
     "text": [
      "0.04    177\n",
      "0.00    111\n",
      "dtype: int64\n"
     ]
    },
    {
     "data": {
      "image/png": "[encoded data removed]",
      "text/plain": [
       "<Figure size 432x288 with 2 Axes>"
      ]
     },
     "metadata": {
      "needs_background": "light"
     },
     "output_type": "display_data"
    },
    {
     "data": {
      "image/png": "[encoded data removed]",
      "text/plain": [
       "<Figure size 432x288 with 2 Axes>"
      ]
     },
     "metadata": {
      "needs_background": "light"
     },
     "output_type": "display_data"
    }
   ],
   "source": [
    "losses = []\n",
    "for traj in test_data:\n",
    "    for tensor in traj:\n",
    "        model.eval()\n",
    "        tensor = tensor.unsqueeze(0)\n",
    "        decoded_tensor = model(tensor,None,None,option=4) \n",
    "        loss = F.mse_loss(torch.round(decoded_tensor), tensor)\n",
    "        losses.append(loss.item())\n",
    "print(pd.Series(losses).value_counts())\n",
    "test_example= test_data[50][0].unsqueeze(0)\n",
    "decoded_tensor = model(test_example,None,None,option=4)\n",
    "image_all.view_tensor(test_example[0][0])\n",
    "image_all.view_tensor(decoded_tensor[0][0].detach())"
   ]
  },
  {
   "cell_type": "markdown",
   "metadata": {},
   "source": [
    "<h1>Similarity Scores"
   ]
  },
  {
   "cell_type": "code",
   "execution_count": 8,
   "metadata": {},
   "outputs": [],
   "source": [
    "#Want, a similiratiy matrix. First, get similarity data.\n",
    "latent_tensors, decoded_tensors, grid_tensors = image_all.get_fixed_goal_data(model,0)"
   ]
  },
  {
   "cell_type": "code",
   "execution_count": 9,
   "metadata": {},
   "outputs": [
    {
     "data": {
      "text/plain": [
       "(25, 25, 25)"
      ]
     },
     "execution_count": 9,
     "metadata": {},
     "output_type": "execute_result"
    }
   ],
   "source": [
    "len(latent_tensors), len(decoded_tensors), len(grid_tensors)"
   ]
  },
  {
   "cell_type": "code",
   "execution_count": 10,
   "metadata": {},
   "outputs": [
    {
     "data": {
      "text/plain": [
       "(torch.Size([5, 5]), torch.Size([1, 64]), torch.Size([1, 1, 5, 5]))"
      ]
     },
     "execution_count": 10,
     "metadata": {},
     "output_type": "execute_result"
    }
   ],
   "source": [
    "grid_tensors[0].shape, latent_tensors[0].shape, decoded_tensors[0].shape   "
   ]
  },
  {
   "cell_type": "code",
   "execution_count": 11,
   "metadata": {},
   "outputs": [],
   "source": [
    "#Get cosine similarity matrix of how similar the grids are to each other. Should be 25x25 matrix\n",
    "grid_similarity_matrix = []\n",
    "latent_tensors_similarity_matrix = []\n",
    "decoded_tensors_similarity_matrix = []\n",
    "for i in range(len(grid_tensors)):\n",
    "    grid_row = []\n",
    "    latent_row = []\n",
    "    decoded_row = []\n",
    "    for j in range(len(grid_tensors)):\n",
    "        grid_row.append(F.cosine_similarity(grid_tensors[i].flatten(), grid_tensors[j].flatten(), dim=0).item())\n",
    "        latent_row.append(F.cosine_similarity(latent_tensors[i].flatten(), latent_tensors[j].flatten(), dim=0).item())\n",
    "        decoded_row.append(F.cosine_similarity(decoded_tensors[i].flatten(), decoded_tensors[j].flatten(), dim=0).item())\n",
    "    grid_similarity_matrix.append(grid_row)\n",
    "    latent_tensors_similarity_matrix.append(latent_row)\n",
    "    decoded_tensors_similarity_matrix.append(decoded_row)\n",
    "\n",
    "grid_similarity_matrix = np.array(grid_similarity_matrix)\n",
    "latent_tensors_similarity_matrix = np.array(latent_tensors_similarity_matrix)\n",
    "decoded_tensors_similarity_matrix = np.array(decoded_tensors_similarity_matrix)\n",
    "\n"
   ]
  },
  {
   "cell_type": "code",
   "execution_count": 12,
   "metadata": {},
   "outputs": [],
   "source": [
    "#Get MDS of each similarity matrix\n",
    "mds_grid = MDS(n_components=2, dissimilarity='precomputed',normalized_stress='auto')\n",
    "mds_grid.fit(grid_similarity_matrix)\n",
    "\n",
    "mds_latent = MDS(n_components=2, dissimilarity='precomputed',normalized_stress='auto')\n",
    "mds_latent.fit(latent_tensors_similarity_matrix)\n",
    "\n",
    "mds_decoded = MDS(n_components=2, dissimilarity='precomputed',normalized_stress='auto')\n",
    "mds_decoded.fit(decoded_tensors_similarity_matrix)\n",
    "\n",
    "mds_grid_embedding = mds_grid.embedding_\n",
    "mds_latent_embedding = mds_latent.embedding_\n",
    "mds_decoded_embedding = mds_decoded.embedding_"
   ]
  },
  {
   "cell_type": "code",
   "execution_count": 13,
   "metadata": {},
   "outputs": [
    {
     "data": {
      "application/vnd.plotly.v1+json": {
       "config": {
        "plotlyServerURL": "https://plot.ly"
       },
       "data": [
        {
         "marker": {
          "color": "blue"
         },
         "mode": "markers+text",
         "name": "Grid Embedding",
         "text": [
          "(0,0)",
          "(0,1)",
          "(0,2)",
          "(0,3)",
          "(0,4)",
          "(1,0)",
          "(1,1)",
          "(1,2)",
          "(1,3)",
          "(1,4)",
          "(2,0)",
          "(2,1)",
          "(2,2)",
          "(2,3)",
          "(2,4)",
          "(3,0)",
          "(3,1)",
          "(3,2)",
          "(3,3)",
          "(3,4)",
          "(4,0)",
          "(4,1)",
          "(4,2)",
          "(4,3)",
          "(4,4)"
         ],
         "textposition": "top center",
         "type": "scatter",
         "x": [
          -0.5122223157546048,
          0.20248191894487125,
          -0.10602772561174688,
          0.22197855545882672,
          -0.21745032152079538,
          0.35085749951479733,
          -0.07756125191912912,
          0.20096160709329006,
          0.023441605708933402,
          -0.13113580186008983,
          -0.33695123040488073,
          0.297736157720866,
          -0.30175168061445773,
          0.12615500783481057,
          0.10024145666646014,
          -0.2554585848962825,
          -0.3171746275933354,
          -0.011703121399106517,
          0.2354041607495318,
          0.3225588569354088,
          0.37655331383684426,
          -0.055010402204771214,
          0.09305470846502101,
          -0.1730170660288064,
          -0.055960719121738924
         ],
         "y": [
          0.3751149942316366,
          -0.1919837888180063,
          0.3312505323711756,
          -0.3149744256660171,
          0.21165262551219155,
          -0.1639913706664636,
          -0.20741116756688072,
          0.11015148865390764,
          0.34964289227028145,
          -0.35829069046209094,
          -0.03187768469357657,
          -0.05441638191269246,
          0.09112378349869009,
          0.30533347564473956,
          -0.3307214633471308,
          -0.2657136740972618,
          -0.15805510485457525,
          -0.34569823410093115,
          0.2876646057124518,
          0.18301249944308295,
          0.04466459335467556,
          0.19452700571578635,
          -0.039214668600185215,
          -0.06844098626536338,
          0.04665114464193183
         ]
        },
        {
         "marker": {
          "color": "green"
         },
         "mode": "markers+text",
         "name": "Latent Embedding",
         "text": [
          "(0,0)",
          "(0,1)",
          "(0,2)",
          "(0,3)",
          "(0,4)",
          "(1,0)",
          "(1,1)",
          "(1,2)",
          "(1,3)",
          "(1,4)",
          "(2,0)",
          "(2,1)",
          "(2,2)",
          "(2,3)",
          "(2,4)",
          "(3,0)",
          "(3,1)",
          "(3,2)",
          "(3,3)",
          "(3,4)",
          "(4,0)",
          "(4,1)",
          "(4,2)",
          "(4,3)",
          "(4,4)"
         ],
         "textposition": "top center",
         "type": "scatter",
         "x": [
          0.42624320574068547,
          -0.5191666066069481,
          -0.04802080089691566,
          0.2955974905934198,
          -0.4292966866991188,
          0.20044364123766792,
          -0.17446423015254311,
          -0.6182594867386532,
          0.5970910008382282,
          -0.35214009368362337,
          -0.25807363653374965,
          -0.35872850036332976,
          -0.5963155914678635,
          -0.4259642851031134,
          -0.1553714555915637,
          0.06434202906332442,
          0.18217341137766194,
          -0.14304660951790613,
          0.5495668085814794,
          0.43078480418327886,
          0.2816952955267884,
          0.502552913262086,
          -0.0008590165139392319,
          0.07023313636209133,
          0.47898326310270056
         ],
         "y": [
          0.5900485177986476,
          0.32500392426652286,
          0.3788410909657081,
          -0.5400117501341504,
          -0.3085922414056244,
          -0.3199519059551471,
          0.06552341260627345,
          0.1017825904387397,
          -0.0374462755793065,
          0.39127902262453546,
          0.5932096104036698,
          -0.49518887715929,
          -0.193074148869405,
          -0.004043219206457011,
          -0.6038403088914879,
          -0.6099859489033934,
          0.40466649115394215,
          -0.30994274209638706,
          0.15677333440615995,
          0.33502596356452,
          0.09815848292467796,
          -0.39120899769080764,
          0.6136278846865103,
          -0.04698987028790534,
          -0.19366403966089818
         ]
        },
        {
         "marker": {
          "color": "red"
         },
         "mode": "markers+text",
         "name": "Decoded Embedding",
         "text": [
          "(0,0)",
          "(0,1)",
          "(0,2)",
          "(0,3)",
          "(0,4)",
          "(1,0)",
          "(1,1)",
          "(1,2)",
          "(1,3)",
          "(1,4)",
          "(2,0)",
          "(2,1)",
          "(2,2)",
          "(2,3)",
          "(2,4)",
          "(3,0)",
          "(3,1)",
          "(3,2)",
          "(3,3)",
          "(3,4)",
          "(4,0)",
          "(4,1)",
          "(4,2)",
          "(4,3)",
          "(4,4)"
         ],
         "textposition": "top center",
         "type": "scatter",
         "x": [
          0.6193891414449539,
          -0.11030784789226356,
          0.18042520626126007,
          0.10338207952457859,
          0.2992134331008975,
          -0.39760075894558206,
          -0.0038648745017145526,
          -0.05753771896783734,
          -0.011230015317569132,
          -0.11113727903667237,
          0.10081452540286698,
          -0.336616347523837,
          0.30636028399035076,
          -0.26168515625208344,
          -0.2418109048724989,
          0.17738591830226086,
          -0.16461569613469249,
          0.14298646371949011,
          -0.13414078364775886,
          -0.11883967452756528,
          0.04628654945180013,
          0.2665078845797093,
          -0.28252970299692576,
          -0.2530759971894759,
          0.24224127202799203
         ],
         "y": [
          0.07462083773723203,
          -0.423078675920267,
          0.03770671340211872,
          -0.10922941854109272,
          -0.11298468368217095,
          0.07916889112386825,
          0.14733959172733646,
          -0.17574923383193283,
          0.004499099236787491,
          0.3850112209634621,
          0.36976662134346683,
          -0.17190498616970007,
          0.07005438442831642,
          0.0965572022614624,
          -0.33679592231140326,
          -0.2227635550311561,
          -0.12355398020864267,
          0.18172368002001324,
          0.07987198073762863,
          0.27612697179884516,
          -0.34580002133974225,
          0.34373179194758957,
          0.264752810095268,
          -0.05343836060951589,
          -0.33563295917752195
         ]
        }
       ],
       "layout": {
        "legend": {
         "orientation": "h",
         "x": 1,
         "xanchor": "right",
         "y": 1.02,
         "yanchor": "bottom"
        },
        "template": {
         "data": {
          "bar": [
           {
            "error_x": {
             "color": "#2a3f5f"
            },
            "error_y": {
             "color": "#2a3f5f"
            },
            "marker": {
             "line": {
              "color": "#E5ECF6",
              "width": 0.5
             },
             "pattern": {
              "fillmode": "overlay",
              "size": 10,
              "solidity": 0.2
             }
            },
            "type": "bar"
           }
          ],
          "barpolar": [
           {
            "marker": {
             "line": {
              "color": "#E5ECF6",
              "width": 0.5
             },
             "pattern": {
              "fillmode": "overlay",
              "size": 10,
              "solidity": 0.2
             }
            },
            "type": "barpolar"
           }
          ],
          "carpet": [
           {
            "aaxis": {
             "endlinecolor": "#2a3f5f",
             "gridcolor": "white",
             "linecolor": "white",
             "minorgridcolor": "white",
             "startlinecolor": "#2a3f5f"
            },
            "baxis": {
             "endlinecolor": "#2a3f5f",
             "gridcolor": "white",
             "linecolor": "white",
             "minorgridcolor": "white",
             "startlinecolor": "#2a3f5f"
            },
            "type": "carpet"
           }
          ],
          "choropleth": [
           {
            "colorbar": {
             "outlinewidth": 0,
             "ticks": ""
            },
            "type": "choropleth"
           }
          ],
          "contour": [
           {
            "colorbar": {
             "outlinewidth": 0,
             "ticks": ""
            },
            "colorscale": [
             [
              0,
              "#0d0887"
             ],
             [
              0.1111111111111111,
              "#46039f"
             ],
             [
              0.2222222222222222,
              "#7201a8"
             ],
             [
              0.3333333333333333,
              "#9c179e"
             ],
             [
              0.4444444444444444,
              "#bd3786"
             ],
             [
              0.5555555555555556,
              "#d8576b"
             ],
             [
              0.6666666666666666,
              "#ed7953"
             ],
             [
              0.7777777777777778,
              "#fb9f3a"
             ],
             [
              0.8888888888888888,
              "#fdca26"
             ],
             [
              1,
              "#f0f921"
             ]
            ],
            "type": "contour"
           }
          ],
          "contourcarpet": [
           {
            "colorbar": {
             "outlinewidth": 0,
             "ticks": ""
            },
            "type": "contourcarpet"
           }
          ],
          "heatmap": [
           {
            "colorbar": {
             "outlinewidth": 0,
             "ticks": ""
            },
            "colorscale": [
             [
              0,
              "#0d0887"
             ],
             [
              0.1111111111111111,
              "#46039f"
             ],
             [
              0.2222222222222222,
              "#7201a8"
             ],
             [
              0.3333333333333333,
              "#9c179e"
             ],
             [
              0.4444444444444444,
              "#bd3786"
             ],
             [
              0.5555555555555556,
              "#d8576b"
             ],
             [
              0.6666666666666666,
              "#ed7953"
             ],
             [
              0.7777777777777778,
              "#fb9f3a"
             ],
             [
              0.8888888888888888,
              "#fdca26"
             ],
             [
              1,
              "#f0f921"
             ]
            ],
            "type": "heatmap"
           }
          ],
          "heatmapgl": [
           {
            "colorbar": {
             "outlinewidth": 0,
             "ticks": ""
            },
            "colorscale": [
             [
              0,
              "#0d0887"
             ],
             [
              0.1111111111111111,
              "#46039f"
             ],
             [
              0.2222222222222222,
              "#7201a8"
             ],
             [
              0.3333333333333333,
              "#9c179e"
             ],
             [
              0.4444444444444444,
              "#bd3786"
             ],
             [
              0.5555555555555556,
              "#d8576b"
             ],
             [
              0.6666666666666666,
              "#ed7953"
             ],
             [
              0.7777777777777778,
              "#fb9f3a"
             ],
             [
              0.8888888888888888,
              "#fdca26"
             ],
             [
              1,
              "#f0f921"
             ]
            ],
            "type": "heatmapgl"
           }
          ],
          "histogram": [
           {
            "marker": {
             "pattern": {
              "fillmode": "overlay",
              "size": 10,
              "solidity": 0.2
             }
            },
            "type": "histogram"
           }
          ],
          "histogram2d": [
           {
            "colorbar": {
             "outlinewidth": 0,
             "ticks": ""
            },
            "colorscale": [
             [
              0,
              "#0d0887"
             ],
             [
              0.1111111111111111,
              "#46039f"
             ],
             [
              0.2222222222222222,
              "#7201a8"
             ],
             [
              0.3333333333333333,
              "#9c179e"
             ],
             [
              0.4444444444444444,
              "#bd3786"
             ],
             [
              0.5555555555555556,
              "#d8576b"
             ],
             [
              0.6666666666666666,
              "#ed7953"
             ],
             [
              0.7777777777777778,
              "#fb9f3a"
             ],
             [
              0.8888888888888888,
              "#fdca26"
             ],
             [
              1,
              "#f0f921"
             ]
            ],
            "type": "histogram2d"
           }
          ],
          "histogram2dcontour": [
           {
            "colorbar": {
             "outlinewidth": 0,
             "ticks": ""
            },
            "colorscale": [
             [
              0,
              "#0d0887"
             ],
             [
              0.1111111111111111,
              "#46039f"
             ],
             [
              0.2222222222222222,
              "#7201a8"
             ],
             [
              0.3333333333333333,
              "#9c179e"
             ],
             [
              0.4444444444444444,
              "#bd3786"
             ],
             [
              0.5555555555555556,
              "#d8576b"
             ],
             [
              0.6666666666666666,
              "#ed7953"
             ],
             [
              0.7777777777777778,
              "#fb9f3a"
             ],
             [
              0.8888888888888888,
              "#fdca26"
             ],
             [
              1,
              "#f0f921"
             ]
            ],
            "type": "histogram2dcontour"
           }
          ],
          "mesh3d": [
           {
            "colorbar": {
             "outlinewidth": 0,
             "ticks": ""
            },
            "type": "mesh3d"
           }
          ],
          "parcoords": [
           {
            "line": {
             "colorbar": {
              "outlinewidth": 0,
              "ticks": ""
             }
            },
            "type": "parcoords"
           }
          ],
          "pie": [
           {
            "automargin": true,
            "type": "pie"
           }
          ],
          "scatter": [
           {
            "fillpattern": {
             "fillmode": "overlay",
             "size": 10,
             "solidity": 0.2
            },
            "type": "scatter"
           }
          ],
          "scatter3d": [
           {
            "line": {
             "colorbar": {
              "outlinewidth": 0,
              "ticks": ""
             }
            },
            "marker": {
             "colorbar": {
              "outlinewidth": 0,
              "ticks": ""
             }
            },
            "type": "scatter3d"
           }
          ],
          "scattercarpet": [
           {
            "marker": {
             "colorbar": {
              "outlinewidth": 0,
              "ticks": ""
             }
            },
            "type": "scattercarpet"
           }
          ],
          "scattergeo": [
           {
            "marker": {
             "colorbar": {
              "outlinewidth": 0,
              "ticks": ""
             }
            },
            "type": "scattergeo"
           }
          ],
          "scattergl": [
           {
            "marker": {
             "colorbar": {
              "outlinewidth": 0,
              "ticks": ""
             }
            },
            "type": "scattergl"
           }
          ],
          "scattermapbox": [
           {
            "marker": {
             "colorbar": {
              "outlinewidth": 0,
              "ticks": ""
             }
            },
            "type": "scattermapbox"
           }
          ],
          "scatterpolar": [
           {
            "marker": {
             "colorbar": {
              "outlinewidth": 0,
              "ticks": ""
             }
            },
            "type": "scatterpolar"
           }
          ],
          "scatterpolargl": [
           {
            "marker": {
             "colorbar": {
              "outlinewidth": 0,
              "ticks": ""
             }
            },
            "type": "scatterpolargl"
           }
          ],
          "scatterternary": [
           {
            "marker": {
             "colorbar": {
              "outlinewidth": 0,
              "ticks": ""
             }
            },
            "type": "scatterternary"
           }
          ],
          "surface": [
           {
            "colorbar": {
             "outlinewidth": 0,
             "ticks": ""
            },
            "colorscale": [
             [
              0,
              "#0d0887"
             ],
             [
              0.1111111111111111,
              "#46039f"
             ],
             [
              0.2222222222222222,
              "#7201a8"
             ],
             [
              0.3333333333333333,
              "#9c179e"
             ],
             [
              0.4444444444444444,
              "#bd3786"
             ],
             [
              0.5555555555555556,
              "#d8576b"
             ],
             [
              0.6666666666666666,
              "#ed7953"
             ],
             [
              0.7777777777777778,
              "#fb9f3a"
             ],
             [
              0.8888888888888888,
              "#fdca26"
             ],
             [
              1,
              "#f0f921"
             ]
            ],
            "type": "surface"
           }
          ],
          "table": [
           {
            "cells": {
             "fill": {
              "color": "#EBF0F8"
             },
             "line": {
              "color": "white"
             }
            },
            "header": {
             "fill": {
              "color": "#C8D4E3"
             },
             "line": {
              "color": "white"
             }
            },
            "type": "table"
           }
          ]
         },
         "layout": {
          "annotationdefaults": {
           "arrowcolor": "#2a3f5f",
           "arrowhead": 0,
           "arrowwidth": 1
          },
          "autotypenumbers": "strict",
          "coloraxis": {
           "colorbar": {
            "outlinewidth": 0,
            "ticks": ""
           }
          },
          "colorscale": {
           "diverging": [
            [
             0,
             "#8e0152"
            ],
            [
             0.1,
             "#c51b7d"
            ],
            [
             0.2,
             "#de77ae"
            ],
            [
             0.3,
             "#f1b6da"
            ],
            [
             0.4,
             "#fde0ef"
            ],
            [
             0.5,
             "#f7f7f7"
            ],
            [
             0.6,
             "#e6f5d0"
            ],
            [
             0.7,
             "#b8e186"
            ],
            [
             0.8,
             "#7fbc41"
            ],
            [
             0.9,
             "#4d9221"
            ],
            [
             1,
             "#276419"
            ]
           ],
           "sequential": [
            [
             0,
             "#0d0887"
            ],
            [
             0.1111111111111111,
             "#46039f"
            ],
            [
             0.2222222222222222,
             "#7201a8"
            ],
            [
             0.3333333333333333,
             "#9c179e"
            ],
            [
             0.4444444444444444,
             "#bd3786"
            ],
            [
             0.5555555555555556,
             "#d8576b"
            ],
            [
             0.6666666666666666,
             "#ed7953"
            ],
            [
             0.7777777777777778,
             "#fb9f3a"
            ],
            [
             0.8888888888888888,
             "#fdca26"
            ],
            [
             1,
             "#f0f921"
            ]
           ],
           "sequentialminus": [
            [
             0,
             "#0d0887"
            ],
            [
             0.1111111111111111,
             "#46039f"
            ],
            [
             0.2222222222222222,
             "#7201a8"
            ],
            [
             0.3333333333333333,
             "#9c179e"
            ],
            [
             0.4444444444444444,
             "#bd3786"
            ],
            [
             0.5555555555555556,
             "#d8576b"
            ],
            [
             0.6666666666666666,
             "#ed7953"
            ],
            [
             0.7777777777777778,
             "#fb9f3a"
            ],
            [
             0.8888888888888888,
             "#fdca26"
            ],
            [
             1,
             "#f0f921"
            ]
           ]
          },
          "colorway": [
           "#636efa",
           "#EF553B",
           "#00cc96",
           "#ab63fa",
           "#FFA15A",
           "#19d3f3",
           "#FF6692",
           "#B6E880",
           "#FF97FF",
           "#FECB52"
          ],
          "font": {
           "color": "#2a3f5f"
          },
          "geo": {
           "bgcolor": "white",
           "lakecolor": "white",
           "landcolor": "#E5ECF6",
           "showlakes": true,
           "showland": true,
           "subunitcolor": "white"
          },
          "hoverlabel": {
           "align": "left"
          },
          "hovermode": "closest",
          "mapbox": {
           "style": "light"
          },
          "paper_bgcolor": "white",
          "plot_bgcolor": "#E5ECF6",
          "polar": {
           "angularaxis": {
            "gridcolor": "white",
            "linecolor": "white",
            "ticks": ""
           },
           "bgcolor": "#E5ECF6",
           "radialaxis": {
            "gridcolor": "white",
            "linecolor": "white",
            "ticks": ""
           }
          },
          "scene": {
           "xaxis": {
            "backgroundcolor": "#E5ECF6",
            "gridcolor": "white",
            "gridwidth": 2,
            "linecolor": "white",
            "showbackground": true,
            "ticks": "",
            "zerolinecolor": "white"
           },
           "yaxis": {
            "backgroundcolor": "#E5ECF6",
            "gridcolor": "white",
            "gridwidth": 2,
            "linecolor": "white",
            "showbackground": true,
            "ticks": "",
            "zerolinecolor": "white"
           },
           "zaxis": {
            "backgroundcolor": "#E5ECF6",
            "gridcolor": "white",
            "gridwidth": 2,
            "linecolor": "white",
            "showbackground": true,
            "ticks": "",
            "zerolinecolor": "white"
           }
          },
          "shapedefaults": {
           "line": {
            "color": "#2a3f5f"
           }
          },
          "ternary": {
           "aaxis": {
            "gridcolor": "white",
            "linecolor": "white",
            "ticks": ""
           },
           "baxis": {
            "gridcolor": "white",
            "linecolor": "white",
            "ticks": ""
           },
           "bgcolor": "#E5ECF6",
           "caxis": {
            "gridcolor": "white",
            "linecolor": "white",
            "ticks": ""
           }
          },
          "title": {
           "x": 0.05
          },
          "xaxis": {
           "automargin": true,
           "gridcolor": "white",
           "linecolor": "white",
           "ticks": "",
           "title": {
            "standoff": 15
           },
           "zerolinecolor": "white",
           "zerolinewidth": 2
          },
          "yaxis": {
           "automargin": true,
           "gridcolor": "white",
           "linecolor": "white",
           "ticks": "",
           "title": {
            "standoff": 15
           },
           "zerolinecolor": "white",
           "zerolinewidth": 2
          }
         }
        },
        "title": {
         "text": "MDS of Grid Similarity"
        }
       }
      }
     },
     "metadata": {},
     "output_type": "display_data"
    }
   ],
   "source": [
    "grid_coordinates = [(i//5, i%5) for i in range(25)]\n",
    "# Create an empty figure\n",
    "fig = go.Figure()\n",
    "\n",
    "# Add the MDS embeddings for the grid\n",
    "fig.add_trace(go.Scatter(\n",
    "    x=mds_grid_embedding[:, 0],\n",
    "    y=mds_grid_embedding[:, 1],\n",
    "    mode='markers+text',\n",
    "    marker=dict(color='blue'),\n",
    "    text=[f\"({x},{y})\" for i, (x, y) in enumerate(grid_coordinates)],\n",
    "    name=\"Grid Embedding\"\n",
    "))\n",
    "\n",
    "# Add the MDS embeddings for the latent space\n",
    "fig.add_trace(go.Scatter(\n",
    "    x=mds_latent_embedding[:, 0],\n",
    "    y=mds_latent_embedding[:, 1],\n",
    "    mode='markers+text',\n",
    "    marker=dict(color='green'),\n",
    "    text=[f\"({x},{y})\" for i, (x, y) in enumerate(grid_coordinates)],\n",
    "    name=\"Latent Embedding\"\n",
    "))\n",
    "\n",
    "# Add the MDS embeddings for the decoded space\n",
    "fig.add_trace(go.Scatter(\n",
    "    x=mds_decoded_embedding[:, 0],\n",
    "    y=mds_decoded_embedding[:, 1],\n",
    "    mode='markers+text',\n",
    "    marker=dict(color='red'),\n",
    "    text=[f\"({x},{y})\" for i, (x, y) in enumerate(grid_coordinates)],\n",
    "    name=\"Decoded Embedding\"\n",
    "))\n",
    "\n",
    "# Update the layout\n",
    "fig.update_layout(\n",
    "    title=\"MDS of Grid Similarity\",\n",
    "    legend=dict(orientation=\"h\", yanchor=\"bottom\", y=1.02, xanchor=\"right\", x=1)\n",
    ")\n",
    "\n",
    "fig.update_traces(textposition='top center')\n",
    "\n",
    "# Show the figure\n",
    "fig.show()"
   ]
  }
 ],
 "metadata": {
  "kernelspec": {
   "display_name": "base",
   "language": "python",
   "name": "python3"
  },
  "language_info": {
   "codemirror_mode": {
    "name": "ipython",
    "version": 3
   },
   "file_extension": ".py",
   "mimetype": "text/x-python",
   "name": "python",
   "nbconvert_exporter": "python",
   "pygments_lexer": "ipython3",
   "version": "3.9.7"
  }
 },
 "nbformat": 4,
 "nbformat_minor": 2
}
