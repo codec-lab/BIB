{
 "cells": [
  {
   "cell_type": "code",
   "execution_count": 1,
   "metadata": {},
   "outputs": [],
   "source": [
    "import torch\n",
    "import torch.nn as nn\n",
    "import numpy as np\n",
    "from torch.functional import F\n",
    "import random\n",
    "from scratch_model import AutoEncoder\n",
    "from torch.optim import Adam\n",
    "import pandas as pd\n",
    "import matplotlib.pyplot as plt\n",
    "import image_all\n",
    "# from sklearn.manifold import MDS\n",
    "# import plotly.express as px\n",
    "# import plotly.graph_objects as go\n",
    "\n"
   ]
  },
  {
   "cell_type": "markdown",
   "metadata": {},
   "source": [
    "<h1>0 = Up | 1 = Down | 2 = Left | 3 = Right"
   ]
  },
  {
   "cell_type": "code",
   "execution_count": 2,
   "metadata": {},
   "outputs": [],
   "source": [
    "train_sas, test_sas = image_all.get_sas_data()  "
   ]
  },
  {
   "cell_type": "code",
   "execution_count": 3,
   "metadata": {},
   "outputs": [
    {
     "data": {
      "image/png": "[encoded data removed]",
      "text/plain": [
       "<Figure size 432x288 with 2 Axes>"
      ]
     },
     "metadata": {
      "needs_background": "light"
     },
     "output_type": "display_data"
    },
    {
     "name": "stdout",
     "output_type": "stream",
     "text": [
      "1\n"
     ]
    },
    {
     "data": {
      "image/png": "[encoded data removed]",
      "text/plain": [
       "<Figure size 432x288 with 2 Axes>"
      ]
     },
     "metadata": {
      "needs_background": "light"
     },
     "output_type": "display_data"
    }
   ],
   "source": [
    "image_all.view_tensor(train_sas[0][0])\n",
    "print(train_sas[0][1])\n",
    "image_all.view_tensor(train_sas[0][2])"
   ]
  },
  {
   "cell_type": "markdown",
   "metadata": {},
   "source": [
    "<h1>Option 3: \n",
    "Combination of option 1 and 2"
   ]
  },
  {
   "cell_type": "code",
   "execution_count": 4,
   "metadata": {},
   "outputs": [],
   "source": [
    "in_shape = train_sas[0][0].unsqueeze(0).unsqueeze(0).shape\n",
    "embed_dim = 64 #Seems like optimal one\n",
    "enc_dropout = 0\n",
    "dec_dropout = 0.5\n",
    "model = AutoEncoder(in_shape, embed_dim,dec_drop_out=dec_dropout, enc_drop_out=enc_dropout)\n",
    "optimizer = Adam(model.parameters(), lr=1e-4,weight_decay=1e-5)\n"
   ]
  },
  {
   "cell_type": "code",
   "execution_count": 5,
   "metadata": {},
   "outputs": [
    {
     "name": "stdout",
     "output_type": "stream",
     "text": [
      "0\n",
      "Total Val Loss: 4.3322459029276725 Decode Val Loss: 2.0016733091324563 Latent Val Loss: 0.2702958860944541, Next Image Val Loss: 2.0602767049011\n",
      "Total Train Loss: 5.518361700884998 Decode Train Loss: 2.5079920066520573 Latent Train Loss: 0.34403011661415805 Next Image Train Loss: 2.6663395815528927\n",
      "Total Train Loss: 4.015202955529094 Decode Train Loss: 1.7072563021443785 Latent Train Loss: 0.15536136572627585 Next Image Train Loss: 2.1525852842256428\n",
      "Total Train Loss: 3.722512308694422 Decode Train Loss: 1.4672378869727254 Latent Train Loss: 0.18500555072678254 Next Image Train Loss: 2.0702688728459178\n",
      "Total Train Loss: 3.495220474712551 Decode Train Loss: 1.2773551043123006 Latent Train Loss: 0.20474786741833667 Next Image Train Loss: 2.0131174962036313\n",
      "Total Train Loss: 3.2976614028215407 Decode Train Loss: 1.1396242793183773 Latent Train Loss: 0.2139459853467997 Next Image Train Loss: 1.944091137778014\n",
      "Total Train Loss: 3.1608357987366618 Decode Train Loss: 1.035477922973223 Latent Train Loss: 0.21876732461969367 Next Image Train Loss: 1.9065905459225179\n",
      "Total Train Loss: 3.0137315154075623 Decode Train Loss: 0.9461608858313412 Latent Train Loss: 0.21594298117561267 Next Image Train Loss: 1.8516276510898024\n",
      "Total Train Loss: 2.912400259450078 Decode Train Loss: 0.8936583954142406 Latent Train Loss: 0.2138822731329128 Next Image Train Loss: 1.8048595868982376\n",
      "Total Train Loss: 2.789594690129161 Decode Train Loss: 0.8171862001996487 Latent Train Loss: 0.21495013943058439 Next Image Train Loss: 1.7574583536013961\n",
      "Total Train Loss: 2.6944789620116354 Decode Train Loss: 0.7859336813213303 Latent Train Loss: 0.21150235263048672 Next Image Train Loss: 1.697042927192524\n",
      "10\n",
      "Total Val Loss: 4.010982526587727 Decode Val Loss: 1.7513870702975467 Latent Val Loss: 0.2131877990367407, Next Image Val Loss: 2.046407658262583\n",
      "Total Train Loss: 2.5877789044752717 Decode Train Loss: 0.7374883209588006 Latent Train Loss: 0.20655174783314578 Next Image Train Loss: 1.6437388392398133\n",
      "Total Train Loss: 2.4854498523287476 Decode Train Loss: 0.686547268810682 Latent Train Loss: 0.20547334311995655 Next Image Train Loss: 1.5934292403049768\n",
      "Total Train Loss: 2.41888791769743 Decode Train Loss: 0.6614817730267533 Latent Train Loss: 0.1979657755640801 Next Image Train Loss: 1.5594403709983453\n",
      "Total Train Loss: 2.341476256493479 Decode Train Loss: 0.6315125204157084 Latent Train Loss: 0.19470713509945198 Next Image Train Loss: 1.5152566016186029\n",
      "Total Train Loss: 2.279563650302589 Decode Train Loss: 0.6173310146899894 Latent Train Loss: 0.18891555856680498 Next Image Train Loss: 1.4733170764986425\n",
      "Total Train Loss: 2.2029031260870395 Decode Train Loss: 0.5798641835921444 Latent Train Loss: 0.18512836852460168 Next Image Train Loss: 1.4379105738596991\n",
      "Total Train Loss: 2.1364260178059338 Decode Train Loss: 0.5584041294583585 Latent Train Loss: 0.17886992172570898 Next Image Train Loss: 1.3991519599221647\n",
      "Total Train Loss: 2.092237140797079 Decode Train Loss: 0.5402568422025069 Latent Train Loss: 0.17546151063579601 Next Image Train Loss: 1.3765187888406216\n",
      "Total Train Loss: 2.02270801467821 Decode Train Loss: 0.5123307005269453 Latent Train Loss: 0.16792109859525226 Next Image Train Loss: 1.3424562165513634\n",
      "Total Train Loss: 2.0001077465713024 Decode Train Loss: 0.511528650461696 Latent Train Loss: 0.16535473002004436 Next Image Train Loss: 1.323224366537761\n",
      "20\n",
      "Total Val Loss: 3.809050788859958 Decode Val Loss: 1.5569655147745556 Latent Val Loss: 0.1602394390584263, Next Image Val Loss: 2.0918458288171045\n",
      "Total Train Loss: 1.9317527120467275 Decode Train Loss: 0.4965067460085265 Latent Train Loss: 0.15925395977683365 Next Image Train Loss: 1.2759920089505612\n",
      "Total Train Loss: 1.8871466616168617 Decode Train Loss: 0.47718052570708097 Latent Train Loss: 0.15358798306551763 Next Image Train Loss: 1.256378152826801\n",
      "Total Train Loss: 1.8588101630099119 Decode Train Loss: 0.467453638126608 Latent Train Loss: 0.15116211787681094 Next Image Train Loss: 1.240194407873787\n",
      "Total Train Loss: 1.8227978243026883 Decode Train Loss: 0.4662104095099494 Latent Train Loss: 0.15084274049731902 Next Image Train Loss: 1.205744673567824\n",
      "Total Train Loss: 1.773879473330453 Decode Train Loss: 0.44751682347850874 Latent Train Loss: 0.14782660634373315 Next Image Train Loss: 1.1785360412090085\n",
      "Total Train Loss: 1.7487516717519611 Decode Train Loss: 0.44532203615526667 Latent Train Loss: 0.14397764791501685 Next Image Train Loss: 1.1594519884965848\n",
      "Total Train Loss: 1.7336864002514631 Decode Train Loss: 0.44788137536961586 Latent Train Loss: 0.1394251134886872 Next Image Train Loss: 1.146379909303505\n",
      "Total Train Loss: 1.696450970042497 Decode Train Loss: 0.4256957117759157 Latent Train Loss: 0.13787355009117164 Next Image Train Loss: 1.1328817071276718\n",
      "Total Train Loss: 1.6830441097263247 Decode Train Loss: 0.4313967919733841 Latent Train Loss: 0.13407980014162604 Next Image Train Loss: 1.117567520472221\n",
      "Total Train Loss: 1.6402690683957188 Decode Train Loss: 0.4142639225698076 Latent Train Loss: 0.1300119122432079 Next Image Train Loss: 1.0959932349680457\n",
      "30\n",
      "Total Val Loss: 3.749012611199008 Decode Val Loss: 1.4661166415063906 Latent Val Loss: 0.1434276386830986, Next Image Val Loss: 2.139468326071358\n",
      "Total Train Loss: 1.6147744762944058 Decode Train Loss: 0.4052243915386498 Latent Train Loss: 0.12794513406115585 Next Image Train Loss: 1.0816049498098437\n",
      "Total Train Loss: 1.5946120937354862 Decode Train Loss: 0.40220086115878073 Latent Train Loss: 0.12648858192842455 Next Image Train Loss: 1.0659226520336234\n",
      "Total Train Loss: 1.5771956153679638 Decode Train Loss: 0.40686692561139354 Latent Train Loss: 0.11995539692870807 Next Image Train Loss: 1.0503732924815268\n",
      "Total Train Loss: 1.5565632326994092 Decode Train Loss: 0.4028463358641602 Latent Train Loss: 0.1187420259899227 Next Image Train Loss: 1.0349748740904032\n",
      "Total Train Loss: 1.5353587124031036 Decode Train Loss: 0.39288443308905696 Latent Train Loss: 0.1167608728806954 Next Image Train Loss: 1.0257134079933166\n",
      "Total Train Loss: 1.5006955429911613 Decode Train Loss: 0.38318667357671077 Latent Train Loss: 0.11309973145253024 Next Image Train Loss: 1.0044091339572332\n",
      "Total Train Loss: 1.4997485606465488 Decode Train Loss: 0.3903160043701064 Latent Train Loss: 0.11268314478802495 Next Image Train Loss: 0.9967494114185683\n",
      "Total Train Loss: 1.4770333515945822 Decode Train Loss: 0.38465606381651013 Latent Train Loss: 0.11084615239524283 Next Image Train Loss: 0.9815311357961036\n",
      "Total Train Loss: 1.450513899186626 Decode Train Loss: 0.3775958123093005 Latent Train Loss: 0.10749470696609933 Next Image Train Loss: 0.9654233804787509\n",
      "Total Train Loss: 1.4486435189843179 Decode Train Loss: 0.3818610110669397 Latent Train Loss: 0.10646543982729781 Next Image Train Loss: 0.9603170668240637\n",
      "40\n",
      "Total Val Loss: 3.5940958156614844 Decode Val Loss: 1.3365290368623706 Latent Val Loss: 0.1285196957716202, Next Image Val Loss: 2.129047079234505\n",
      "Total Train Loss: 1.4187363263918087 Decode Train Loss: 0.36909019493614326 Latent Train Loss: 0.10540609413874336 Next Image Train Loss: 0.944240035529947\n",
      "Total Train Loss: 1.417486257525161 Decode Train Loss: 0.3697282341250684 Latent Train Loss: 0.10572530409262981 Next Image Train Loss: 0.9420327186235227\n",
      "Total Train Loss: 1.3841854808852077 Decode Train Loss: 0.36152470821980387 Latent Train Loss: 0.10237490885192528 Next Image Train Loss: 0.9202858649659902\n",
      "Total Train Loss: 1.3780656450428068 Decode Train Loss: 0.3644300374784507 Latent Train Loss: 0.10294532680709381 Next Image Train Loss: 0.9106902803410776\n",
      "Total Train Loss: 1.3524589437991381 Decode Train Loss: 0.3487060591112822 Latent Train Loss: 0.09970019978936762 Next Image Train Loss: 0.9040526847005822\n",
      "Total Train Loss: 1.3304910690523684 Decode Train Loss: 0.3486413493868895 Latent Train Loss: 0.10027334728220012 Next Image Train Loss: 0.8815763721591793\n",
      "Total Train Loss: 1.331868094834499 Decode Train Loss: 0.35960672623477874 Latent Train Loss: 0.10163642101979349 Next Image Train Loss: 0.8706249481765553\n",
      "Total Train Loss: 1.3173495387192815 Decode Train Loss: 0.35467834926676006 Latent Train Loss: 0.09810184989182744 Next Image Train Loss: 0.864569339028094\n",
      "Total Train Loss: 1.2995681282365694 Decode Train Loss: 0.35091898589162157 Latent Train Loss: 0.09683721275359858 Next Image Train Loss: 0.8518119288666639\n",
      "Total Train Loss: 1.2896381153026595 Decode Train Loss: 0.3445354074239731 Latent Train Loss: 0.097103113331832 Next Image Train Loss: 0.8479995952337049\n",
      "50\n",
      "Total Val Loss: 3.385756910859566 Decode Val Loss: 1.2332777310992873 Latent Val Loss: 0.12142345370628627, Next Image Val Loss: 2.031055727528165\n",
      "Total Train Loss: 1.267293527442962 Decode Train Loss: 0.33620701061736324 Latent Train Loss: 0.09623548098024912 Next Image Train Loss: 0.8348510356154293\n",
      "Total Train Loss: 1.2600353823974728 Decode Train Loss: 0.3487931087060133 Latent Train Loss: 0.09644429392064921 Next Image Train Loss: 0.8147979795990977\n",
      "Total Train Loss: 1.2351296215085312 Decode Train Loss: 0.3356561168184271 Latent Train Loss: 0.0970760740514379 Next Image Train Loss: 0.8023974331095814\n",
      "Total Train Loss: 1.2247480187099427 Decode Train Loss: 0.33831021634396163 Latent Train Loss: 0.09669451905065216 Next Image Train Loss: 0.7897432836936786\n",
      "Total Train Loss: 1.2112999672302975 Decode Train Loss: 0.328010704863118 Latent Train Loss: 0.09705788460560143 Next Image Train Loss: 0.7862313791119959\n",
      "Total Train Loss: 1.2230099209817127 Decode Train Loss: 0.342368234146852 Latent Train Loss: 0.09528866679320344 Next Image Train Loss: 0.7853530200896784\n",
      "Total Train Loss: 1.1727712995372712 Decode Train Loss: 0.33007061819953376 Latent Train Loss: 0.09575436214799993 Next Image Train Loss: 0.7469463175046258\n",
      "Total Train Loss: 1.1740379338618367 Decode Train Loss: 0.33116616462066306 Latent Train Loss: 0.09512694145669229 Next Image Train Loss: 0.7477448277757504\n",
      "Total Train Loss: 1.1445136692374944 Decode Train Loss: 0.33119892195099965 Latent Train Loss: 0.09352005254186224 Next Image Train Loss: 0.7197946940083056\n",
      "Total Train Loss: 1.1259945256868378 Decode Train Loss: 0.3266560646239668 Latent Train Loss: 0.09522925063793082 Next Image Train Loss: 0.7041092099621892\n",
      "60\n",
      "Total Val Loss: 3.2148600883943876 Decode Val Loss: 1.2094869151326786 Latent Val Loss: 0.10257392767886377, Next Image Val Loss: 1.9027992539391243\n",
      "Total Train Loss: 1.121187111409381 Decode Train Loss: 0.32328594679711387 Latent Train Loss: 0.09521707549865824 Next Image Train Loss: 0.7026840889593586\n",
      "Total Train Loss: 1.115141895134002 Decode Train Loss: 0.3292255537584424 Latent Train Loss: 0.09673850229009986 Next Image Train Loss: 0.6891778401681222\n",
      "Total Train Loss: 1.0861995788058265 Decode Train Loss: 0.3333365181926638 Latent Train Loss: 0.09501887901860755 Next Image Train Loss: 0.6578441821446177\n",
      "Total Train Loss: 1.0723593800794333 Decode Train Loss: 0.3224006843025563 Latent Train Loss: 0.09481969888729509 Next Image Train Loss: 0.6551389975298662\n",
      "Total Train Loss: 1.0630535431206227 Decode Train Loss: 0.3237316973274574 Latent Train Loss: 0.09278999691014178 Next Image Train Loss: 0.6465318486385513\n",
      "Total Train Loss: 1.0515329600078984 Decode Train Loss: 0.32267182230425534 Latent Train Loss: 0.09355180092679802 Next Image Train Loss: 0.6353093376033939\n",
      "Total Train Loss: 1.0293241896433756 Decode Train Loss: 0.31756100966013034 Latent Train Loss: 0.09437413514824584 Next Image Train Loss: 0.6173890449979809\n",
      "Total Train Loss: 1.008205810538493 Decode Train Loss: 0.3149333657347597 Latent Train Loss: 0.09442007710167673 Next Image Train Loss: 0.5988523662905209\n",
      "Total Train Loss: 1.0186527827521785 Decode Train Loss: 0.32942041215719653 Latent Train Loss: 0.09402552284300328 Next Image Train Loss: 0.5952068472106475\n",
      "Total Train Loss: 1.0116775364615023 Decode Train Loss: 0.3338958015141543 Latent Train Loss: 0.09393611521809361 Next Image Train Loss: 0.5838456176803447\n",
      "70\n",
      "Total Val Loss: 3.0878143006449803 Decode Val Loss: 1.215162521896317 Latent Val Loss: 0.08677182840588299, Next Image Val Loss: 1.7858799498366271\n",
      "Total Train Loss: 0.9743824511533603 Decode Train Loss: 0.3210765990428627 Latent Train Loss: 0.09320713050256017 Next Image Train Loss: 0.5600987214653287\n",
      "Total Train Loss: 0.9823495440417901 Decode Train Loss: 0.327749528439017 Latent Train Loss: 0.09305683996353764 Next Image Train Loss: 0.5615431756537873\n",
      "Total Train Loss: 0.9634639208670706 Decode Train Loss: 0.31567353469436055 Latent Train Loss: 0.09352895939664449 Next Image Train Loss: 0.5542614278849214\n",
      "Total Train Loss: 0.9328707704786211 Decode Train Loss: 0.30670314869494175 Latent Train Loss: 0.09380971140635666 Next Image Train Loss: 0.5323579084826633\n",
      "Total Train Loss: 0.9336077221669257 Decode Train Loss: 0.3160379836102948 Latent Train Loss: 0.0929227728600381 Next Image Train Loss: 0.5246469675883418\n",
      "Total Train Loss: 0.9095870260614902 Decode Train Loss: 0.3143741199746728 Latent Train Loss: 0.09146696975803933 Next Image Train Loss: 0.5037459367304109\n",
      "Total Train Loss: 0.9157107138773426 Decode Train Loss: 0.31688574830186556 Latent Train Loss: 0.0903895776340505 Next Image Train Loss: 0.5084353871236089\n",
      "Total Train Loss: 0.8916202614782378 Decode Train Loss: 0.3111572042980697 Latent Train Loss: 0.08970262957154773 Next Image Train Loss: 0.49076043055392804\n",
      "Total Train Loss: 0.8790962939150632 Decode Train Loss: 0.30790723394602537 Latent Train Loss: 0.08931539194891229 Next Image Train Loss: 0.4818736675370019\n",
      "Total Train Loss: 0.8780829395633191 Decode Train Loss: 0.3120602198294364 Latent Train Loss: 0.0894020008359803 Next Image Train Loss: 0.4766207175969612\n",
      "80\n",
      "Total Val Loss: 2.946560602513668 Decode Val Loss: 1.2085735370688462 Latent Val Loss: 0.07581632769712165, Next Image Val Loss: 1.6621707400064103\n",
      "Total Train Loss: 0.8610784893855452 Decode Train Loss: 0.3096539600024698 Latent Train Loss: 0.08772653368650936 Next Image Train Loss: 0.46369799521635285\n",
      "Total Train Loss: 0.851448875060305 Decode Train Loss: 0.2995064481743611 Latent Train Loss: 0.08700460248219315 Next Image Train Loss: 0.46493782350444235\n",
      "Total Train Loss: 0.824106395826675 Decode Train Loss: 0.29782597366720437 Latent Train Loss: 0.08545904723578132 Next Image Train Loss: 0.4408213743387023\n",
      "Total Train Loss: 0.8218871174380183 Decode Train Loss: 0.29960593646101186 Latent Train Loss: 0.08432296293904074 Next Image Train Loss: 0.43795821730745954\n",
      "Total Train Loss: 0.8032530934549869 Decode Train Loss: 0.2987533687846735 Latent Train Loss: 0.08423395090794657 Next Image Train Loss: 0.4202657740213908\n",
      "Total Train Loss: 0.8244693537941202 Decode Train Loss: 0.31794050577445887 Latent Train Loss: 0.08332820672076195 Next Image Train Loss: 0.4232006402802654\n",
      "Total Train Loss: 0.8211446592118591 Decode Train Loss: 0.30507200343417934 Latent Train Loss: 0.08389370318036526 Next Image Train Loss: 0.4321789532288676\n",
      "Total Train Loss: 0.7948577996809035 Decode Train Loss: 0.3017485483374912 Latent Train Loss: 0.08120350955286995 Next Image Train Loss: 0.4119057423376944\n",
      "Total Train Loss: 0.7794272406026721 Decode Train Loss: 0.29221930021885784 Latent Train Loss: 0.08003680211841128 Next Image Train Loss: 0.4071711368393153\n",
      "Total Train Loss: 0.7771443667123095 Decode Train Loss: 0.2966439277632162 Latent Train Loss: 0.07963480095786508 Next Image Train Loss: 0.4008656391466502\n",
      "90\n",
      "Total Val Loss: 2.889192907909012 Decode Val Loss: 1.2210492004194984 Latent Val Loss: 0.060031927138840285, Next Image Val Loss: 1.6081117839633445\n",
      "Total Train Loss: 0.7612054605968297 Decode Train Loss: 0.29264875580556693 Latent Train Loss: 0.07752787035133224 Next Image Train Loss: 0.3910288354672957\n",
      "Total Train Loss: 0.761644760821946 Decode Train Loss: 0.30291930873936507 Latent Train Loss: 0.07656313050247263 Next Image Train Loss: 0.3821623213356361\n",
      "Total Train Loss: 0.7549005204346031 Decode Train Loss: 0.2965170604380546 Latent Train Loss: 0.07443448731210082 Next Image Train Loss: 0.38394897294929253\n",
      "Total Train Loss: 0.7346740070730448 Decode Train Loss: 0.2866212066845037 Latent Train Loss: 0.07396138467011042 Next Image Train Loss: 0.37409141508396715\n",
      "Total Train Loss: 0.7358355942182243 Decode Train Loss: 0.2905067081213929 Latent Train Loss: 0.07268167513539084 Next Image Train Loss: 0.3726472102745902\n",
      "Total Train Loss: 0.7296164303552359 Decode Train Loss: 0.2919944631430553 Latent Train Loss: 0.07268630364269484 Next Image Train Loss: 0.3649356639187317\n",
      "Total Train Loss: 0.7325003815349191 Decode Train Loss: 0.29018001005752014 Latent Train Loss: 0.07142492300772574 Next Image Train Loss: 0.37089544857444706\n",
      "Total Train Loss: 0.733055101428181 Decode Train Loss: 0.298468976476579 Latent Train Loss: 0.07113044155121315 Next Image Train Loss: 0.3634556839591824\n",
      "Total Train Loss: 0.7138551960466429 Decode Train Loss: 0.2903660265088547 Latent Train Loss: 0.0685655980167212 Next Image Train Loss: 0.3549235705868341\n",
      "Total Train Loss: 0.728001314541325 Decode Train Loss: 0.29822708588908425 Latent Train Loss: 0.06969582565361634 Next Image Train Loss: 0.3600784026144538\n",
      "100\n",
      "Total Val Loss: 2.743685516407308 Decode Val Loss: 1.197327545074665 Latent Val Loss: 0.05048836576189268, Next Image Val Loss: 1.4958696063283992\n",
      "Total Train Loss: 0.7003691357793287 Decode Train Loss: 0.2872519389580702 Latent Train Loss: 0.0680518241104437 Next Image Train Loss: 0.34506537189590747\n",
      "Total Train Loss: 0.7061973244417459 Decode Train Loss: 0.28949985625222324 Latent Train Loss: 0.06617053316731472 Next Image Train Loss: 0.3505269347777357\n",
      "Total Train Loss: 0.7006130701745861 Decode Train Loss: 0.29529490741260817 Latent Train Loss: 0.06453837728768122 Next Image Train Loss: 0.3407797857827973\n",
      "Total Train Loss: 0.6981777244713158 Decode Train Loss: 0.2941340164077701 Latent Train Loss: 0.0634445368719753 Next Image Train Loss: 0.34059917050180955\n",
      "Total Train Loss: 0.6775036184117198 Decode Train Loss: 0.2796957299928181 Latent Train Loss: 0.06364671312621795 Next Image Train Loss: 0.3341611750656739\n",
      "Total Train Loss: 0.6913394558243453 Decode Train Loss: 0.2948980743996799 Latent Train Loss: 0.06198972556157969 Next Image Train Loss: 0.33445165647717656\n",
      "Total Train Loss: 0.6902205937542021 Decode Train Loss: 0.29014768636407096 Latent Train Loss: 0.06152510960528161 Next Image Train Loss: 0.33854779819375835\n"
     ]
    },
    {
     "ename": "KeyboardInterrupt",
     "evalue": "",
     "output_type": "error",
     "traceback": [
      "\u001b[1;31m---------------------------------------------------------------------------\u001b[0m",
      "\u001b[1;31mKeyboardInterrupt\u001b[0m                         Traceback (most recent call last)",
      "\u001b[1;32m~\\AppData\\Local\\Temp/ipykernel_5396/366662624.py\u001b[0m in \u001b[0;36m<module>\u001b[1;34m\u001b[0m\n\u001b[0;32m     27\u001b[0m         \u001b[0moptimizer\u001b[0m\u001b[1;33m.\u001b[0m\u001b[0mzero_grad\u001b[0m\u001b[1;33m(\u001b[0m\u001b[1;33m)\u001b[0m\u001b[1;33m\u001b[0m\u001b[1;33m\u001b[0m\u001b[0m\n\u001b[0;32m     28\u001b[0m         \u001b[0mtotal_loss\u001b[0m\u001b[1;33m.\u001b[0m\u001b[0mbackward\u001b[0m\u001b[1;33m(\u001b[0m\u001b[1;33m)\u001b[0m\u001b[1;33m\u001b[0m\u001b[1;33m\u001b[0m\u001b[0m\n\u001b[1;32m---> 29\u001b[1;33m         \u001b[0moptimizer\u001b[0m\u001b[1;33m.\u001b[0m\u001b[0mstep\u001b[0m\u001b[1;33m(\u001b[0m\u001b[1;33m)\u001b[0m\u001b[1;33m\u001b[0m\u001b[1;33m\u001b[0m\u001b[0m\n\u001b[0m\u001b[0;32m     30\u001b[0m \u001b[1;33m\u001b[0m\u001b[0m\n\u001b[0;32m     31\u001b[0m     \u001b[1;32mif\u001b[0m \u001b[0mepoch\u001b[0m \u001b[1;33m%\u001b[0m \u001b[1;36m10\u001b[0m \u001b[1;33m==\u001b[0m \u001b[1;36m0\u001b[0m\u001b[1;33m:\u001b[0m\u001b[1;33m\u001b[0m\u001b[1;33m\u001b[0m\u001b[0m\n",
      "\u001b[1;32mc:\\Users\\mikef\\anaconda3\\lib\\site-packages\\torch\\optim\\optimizer.py\u001b[0m in \u001b[0;36mwrapper\u001b[1;34m(*args, **kwargs)\u001b[0m\n\u001b[0;32m    371\u001b[0m                             )\n\u001b[0;32m    372\u001b[0m \u001b[1;33m\u001b[0m\u001b[0m\n\u001b[1;32m--> 373\u001b[1;33m                 \u001b[0mout\u001b[0m \u001b[1;33m=\u001b[0m \u001b[0mfunc\u001b[0m\u001b[1;33m(\u001b[0m\u001b[1;33m*\u001b[0m\u001b[0margs\u001b[0m\u001b[1;33m,\u001b[0m \u001b[1;33m**\u001b[0m\u001b[0mkwargs\u001b[0m\u001b[1;33m)\u001b[0m\u001b[1;33m\u001b[0m\u001b[1;33m\u001b[0m\u001b[0m\n\u001b[0m\u001b[0;32m    374\u001b[0m                 \u001b[0mself\u001b[0m\u001b[1;33m.\u001b[0m\u001b[0m_optimizer_step_code\u001b[0m\u001b[1;33m(\u001b[0m\u001b[1;33m)\u001b[0m\u001b[1;33m\u001b[0m\u001b[1;33m\u001b[0m\u001b[0m\n\u001b[0;32m    375\u001b[0m \u001b[1;33m\u001b[0m\u001b[0m\n",
      "\u001b[1;32mc:\\Users\\mikef\\anaconda3\\lib\\site-packages\\torch\\optim\\optimizer.py\u001b[0m in \u001b[0;36m_use_grad\u001b[1;34m(self, *args, **kwargs)\u001b[0m\n\u001b[0;32m     74\u001b[0m             \u001b[0mtorch\u001b[0m\u001b[1;33m.\u001b[0m\u001b[0mset_grad_enabled\u001b[0m\u001b[1;33m(\u001b[0m\u001b[0mself\u001b[0m\u001b[1;33m.\u001b[0m\u001b[0mdefaults\u001b[0m\u001b[1;33m[\u001b[0m\u001b[1;34m'differentiable'\u001b[0m\u001b[1;33m]\u001b[0m\u001b[1;33m)\u001b[0m\u001b[1;33m\u001b[0m\u001b[1;33m\u001b[0m\u001b[0m\n\u001b[0;32m     75\u001b[0m             \u001b[0mtorch\u001b[0m\u001b[1;33m.\u001b[0m\u001b[0m_dynamo\u001b[0m\u001b[1;33m.\u001b[0m\u001b[0mgraph_break\u001b[0m\u001b[1;33m(\u001b[0m\u001b[1;33m)\u001b[0m\u001b[1;33m\u001b[0m\u001b[1;33m\u001b[0m\u001b[0m\n\u001b[1;32m---> 76\u001b[1;33m             \u001b[0mret\u001b[0m \u001b[1;33m=\u001b[0m \u001b[0mfunc\u001b[0m\u001b[1;33m(\u001b[0m\u001b[0mself\u001b[0m\u001b[1;33m,\u001b[0m \u001b[1;33m*\u001b[0m\u001b[0margs\u001b[0m\u001b[1;33m,\u001b[0m \u001b[1;33m**\u001b[0m\u001b[0mkwargs\u001b[0m\u001b[1;33m)\u001b[0m\u001b[1;33m\u001b[0m\u001b[1;33m\u001b[0m\u001b[0m\n\u001b[0m\u001b[0;32m     77\u001b[0m         \u001b[1;32mfinally\u001b[0m\u001b[1;33m:\u001b[0m\u001b[1;33m\u001b[0m\u001b[1;33m\u001b[0m\u001b[0m\n\u001b[0;32m     78\u001b[0m             \u001b[0mtorch\u001b[0m\u001b[1;33m.\u001b[0m\u001b[0m_dynamo\u001b[0m\u001b[1;33m.\u001b[0m\u001b[0mgraph_break\u001b[0m\u001b[1;33m(\u001b[0m\u001b[1;33m)\u001b[0m\u001b[1;33m\u001b[0m\u001b[1;33m\u001b[0m\u001b[0m\n",
      "\u001b[1;32mc:\\Users\\mikef\\anaconda3\\lib\\site-packages\\torch\\optim\\adam.py\u001b[0m in \u001b[0;36mstep\u001b[1;34m(self, closure)\u001b[0m\n\u001b[0;32m    161\u001b[0m                 state_steps)\n\u001b[0;32m    162\u001b[0m \u001b[1;33m\u001b[0m\u001b[0m\n\u001b[1;32m--> 163\u001b[1;33m             adam(\n\u001b[0m\u001b[0;32m    164\u001b[0m                 \u001b[0mparams_with_grad\u001b[0m\u001b[1;33m,\u001b[0m\u001b[1;33m\u001b[0m\u001b[1;33m\u001b[0m\u001b[0m\n\u001b[0;32m    165\u001b[0m                 \u001b[0mgrads\u001b[0m\u001b[1;33m,\u001b[0m\u001b[1;33m\u001b[0m\u001b[1;33m\u001b[0m\u001b[0m\n",
      "\u001b[1;32mc:\\Users\\mikef\\anaconda3\\lib\\site-packages\\torch\\optim\\adam.py\u001b[0m in \u001b[0;36madam\u001b[1;34m(params, grads, exp_avgs, exp_avg_sqs, max_exp_avg_sqs, state_steps, foreach, capturable, differentiable, fused, grad_scale, found_inf, amsgrad, beta1, beta2, lr, weight_decay, eps, maximize)\u001b[0m\n\u001b[0;32m    309\u001b[0m         \u001b[0mfunc\u001b[0m \u001b[1;33m=\u001b[0m \u001b[0m_single_tensor_adam\u001b[0m\u001b[1;33m\u001b[0m\u001b[1;33m\u001b[0m\u001b[0m\n\u001b[0;32m    310\u001b[0m \u001b[1;33m\u001b[0m\u001b[0m\n\u001b[1;32m--> 311\u001b[1;33m     func(params,\n\u001b[0m\u001b[0;32m    312\u001b[0m          \u001b[0mgrads\u001b[0m\u001b[1;33m,\u001b[0m\u001b[1;33m\u001b[0m\u001b[1;33m\u001b[0m\u001b[0m\n\u001b[0;32m    313\u001b[0m          \u001b[0mexp_avgs\u001b[0m\u001b[1;33m,\u001b[0m\u001b[1;33m\u001b[0m\u001b[1;33m\u001b[0m\u001b[0m\n",
      "\u001b[1;32mc:\\Users\\mikef\\anaconda3\\lib\\site-packages\\torch\\optim\\adam.py\u001b[0m in \u001b[0;36m_single_tensor_adam\u001b[1;34m(params, grads, exp_avgs, exp_avg_sqs, max_exp_avg_sqs, state_steps, grad_scale, found_inf, amsgrad, beta1, beta2, lr, weight_decay, eps, maximize, capturable, differentiable)\u001b[0m\n\u001b[0;32m    432\u001b[0m                 \u001b[0mdenom\u001b[0m \u001b[1;33m=\u001b[0m \u001b[1;33m(\u001b[0m\u001b[0mexp_avg_sq\u001b[0m\u001b[1;33m.\u001b[0m\u001b[0msqrt\u001b[0m\u001b[1;33m(\u001b[0m\u001b[1;33m)\u001b[0m \u001b[1;33m/\u001b[0m \u001b[0mbias_correction2_sqrt\u001b[0m\u001b[1;33m)\u001b[0m\u001b[1;33m.\u001b[0m\u001b[0madd_\u001b[0m\u001b[1;33m(\u001b[0m\u001b[0meps\u001b[0m\u001b[1;33m)\u001b[0m\u001b[1;33m\u001b[0m\u001b[1;33m\u001b[0m\u001b[0m\n\u001b[0;32m    433\u001b[0m \u001b[1;33m\u001b[0m\u001b[0m\n\u001b[1;32m--> 434\u001b[1;33m             \u001b[0mparam\u001b[0m\u001b[1;33m.\u001b[0m\u001b[0maddcdiv_\u001b[0m\u001b[1;33m(\u001b[0m\u001b[0mexp_avg\u001b[0m\u001b[1;33m,\u001b[0m \u001b[0mdenom\u001b[0m\u001b[1;33m,\u001b[0m \u001b[0mvalue\u001b[0m\u001b[1;33m=\u001b[0m\u001b[1;33m-\u001b[0m\u001b[0mstep_size\u001b[0m\u001b[1;33m)\u001b[0m\u001b[1;33m\u001b[0m\u001b[1;33m\u001b[0m\u001b[0m\n\u001b[0m\u001b[0;32m    435\u001b[0m \u001b[1;33m\u001b[0m\u001b[0m\n\u001b[0;32m    436\u001b[0m         \u001b[1;31m# Lastly, switch back to complex view\u001b[0m\u001b[1;33m\u001b[0m\u001b[1;33m\u001b[0m\u001b[0m\n",
      "\u001b[1;31mKeyboardInterrupt\u001b[0m: "
     ]
    }
   ],
   "source": [
    "train_divider = 0.04 * len(train_sas)\n",
    "test_divider = 0.04 * len(test_sas)\n",
    "for epoch in range(1000):\n",
    "    model.train()\n",
    "    avg_total_loss = 0\n",
    "    avg_decode_loss = 0\n",
    "    avg_latent_loss = 0\n",
    "    avg_next_image_loss = 0\n",
    "    for i in random.sample(range(len(train_sas)), len(train_sas)):\n",
    "        #Prepare Input Data\n",
    "        input_state, input_action, input_next_state = train_sas[i]\n",
    "        input_state = input_state.unsqueeze(0).unsqueeze(0)\n",
    "        input_next_state = input_next_state.unsqueeze(0).unsqueeze(0)\n",
    "        #Get Model Output\n",
    "        decoded_init_state, decoded_next_state,latent_init_state, latent_next_state = model(input_state,input_action,input_next_state,option=3)\n",
    "        #Calculate Loss\n",
    "        decode_loss = F.mse_loss(decoded_init_state.squeeze(0).squeeze(0), train_sas[i][0])\n",
    "        latent_loss = F.mse_loss(latent_init_state,latent_next_state)\n",
    "        next_image_loss = F.mse_loss(decoded_next_state.squeeze(0).squeeze(0), train_sas[i][2])\n",
    "        total_loss = decode_loss + latent_loss + next_image_loss\n",
    "        #Add Loss to Average\n",
    "        avg_decode_loss += decode_loss.item()\n",
    "        avg_latent_loss += latent_loss.item()\n",
    "        avg_total_loss += total_loss.item()\n",
    "        avg_next_image_loss += next_image_loss.item()\n",
    "        #Backpropagate\n",
    "        optimizer.zero_grad()\n",
    "        total_loss.backward()\n",
    "        optimizer.step()\n",
    "\n",
    "    if epoch % 10 == 0:\n",
    "        val_avg_total_loss = 0\n",
    "        val_avg_decode_loss = 0\n",
    "        val_avg_latent_loss = 0\n",
    "        val_avg_next_image_loss = 0\n",
    "        for i in random.sample(range(len(test_sas)), len(test_sas)):\n",
    "            model.eval()\n",
    "            with torch.no_grad():\n",
    "                input_state, input_action, input_next_state = test_sas[i]\n",
    "                input_state = input_state.unsqueeze(0).unsqueeze(0)\n",
    "                input_next_state = input_next_state.unsqueeze(0).unsqueeze(0)\n",
    "                decoded_init_state, decoded_next_state, latent_init_state, latent_next_state = model(input_state,input_action,input_next_state,option=3)\n",
    "                val_decode_loss = F.mse_loss(decoded_init_state.squeeze(0).squeeze(0), test_sas[i][0])\n",
    "                val_latent_loss = F.mse_loss(latent_init_state,latent_next_state)\n",
    "                val_next_image_loss = F.mse_loss(decoded_next_state.squeeze(0).squeeze(0), test_sas[i][2])\n",
    "                val_total_loss = val_decode_loss + val_latent_loss + val_next_image_loss\n",
    "                val_avg_decode_loss += val_decode_loss.item()\n",
    "                val_avg_latent_loss += val_latent_loss.item()\n",
    "                val_avg_next_image_loss += val_next_image_loss.item()\n",
    "                val_avg_total_loss += val_total_loss.item()\n",
    "        print(f\"{epoch}\\nTotal Val Loss: {val_avg_total_loss/test_divider} Decode Val Loss: {val_avg_decode_loss/test_divider} Latent Val Loss: {val_avg_latent_loss/test_divider}, Next Image Val Loss: {val_avg_next_image_loss/test_divider}\")\n",
    "    print(f\"Total Train Loss: {avg_total_loss/train_divider} Decode Train Loss: {avg_decode_loss/train_divider} Latent Train Loss: {avg_latent_loss/train_divider} Next Image Train Loss: {avg_next_image_loss/train_divider}\")"
   ]
  },
  {
   "cell_type": "code",
   "execution_count": 6,
   "metadata": {},
   "outputs": [],
   "source": [
    "#find good example of agent in the middle. Plug in each action and view decoded tensor. Also check with valid data\n",
    "train_sas[100] # good example \n",
    "test_init_state = train_sas[100][0].unsqueeze(0).unsqueeze(0)\n",
    "test_next_state = train_sas[100][2].unsqueeze(0).unsqueeze(0)"
   ]
  },
  {
   "cell_type": "code",
   "execution_count": 7,
   "metadata": {},
   "outputs": [
    {
     "data": {
      "image/png": "[encoded data removed]",
      "text/plain": [
       "<Figure size 432x288 with 2 Axes>"
      ]
     },
     "metadata": {
      "needs_background": "light"
     },
     "output_type": "display_data"
    }
   ],
   "source": [
    "image_all.view_tensor(train_sas[100][0])"
   ]
  },
  {
   "cell_type": "code",
   "execution_count": null,
   "metadata": {},
   "outputs": [],
   "source": [
    "action_name_func = lambda x: \"Up\" if x == 0 else \"Down\" if x == 1 else \"Left\" if x == 2 else \"Right\" if x == 3 else \"No Action\""
   ]
  },
  {
   "cell_type": "code",
   "execution_count": 9,
   "metadata": {},
   "outputs": [
    {
     "name": "stdout",
     "output_type": "stream",
     "text": [
      "Decoded Tensor\n"
     ]
    },
    {
     "data": {
      "image/png": "[encoded data removed]",
      "text/plain": [
       "<Figure size 432x288 with 2 Axes>"
      ]
     },
     "metadata": {
      "needs_background": "light"
     },
     "output_type": "display_data"
    },
    {
     "name": "stdout",
     "output_type": "stream",
     "text": [
      "Action: Up\n"
     ]
    },
    {
     "data": {
      "image/png": "[encoded data removed]",
      "text/plain": [
       "<Figure size 432x288 with 2 Axes>"
      ]
     },
     "metadata": {
      "needs_background": "light"
     },
     "output_type": "display_data"
    },
    {
     "name": "stdout",
     "output_type": "stream",
     "text": [
      "Action: Down\n"
     ]
    },
    {
     "data": {
      "image/png": "[encoded data removed]",
      "text/plain": [
       "<Figure size 432x288 with 2 Axes>"
      ]
     },
     "metadata": {
      "needs_background": "light"
     },
     "output_type": "display_data"
    },
    {
     "name": "stdout",
     "output_type": "stream",
     "text": [
      "Action: Left\n"
     ]
    },
    {
     "data": {
      "image/png": "[encoded data removed]",
      "text/plain": [
       "<Figure size 432x288 with 2 Axes>"
      ]
     },
     "metadata": {
      "needs_background": "light"
     },
     "output_type": "display_data"
    },
    {
     "name": "stdout",
     "output_type": "stream",
     "text": [
      "Action: Right\n"
     ]
    },
    {
     "data": {
      "image/png": "[encoded data removed]",
      "text/plain": [
       "<Figure size 432x288 with 2 Axes>"
      ]
     },
     "metadata": {
      "needs_background": "light"
     },
     "output_type": "display_data"
    }
   ],
   "source": [
    "model.eval()\n",
    "with torch.no_grad():\n",
    "    decoded_init_state_0, decoded_next_state_0,_,_ = model(test_init_state,0,test_next_state,option=3)\n",
    "    decoded_init_state_1, decoded_next_state_1,_,_ = model(test_init_state,1,test_next_state,option=3)\n",
    "    decoded_init_state_2, decoded_next_state_2,_,_ = model(test_init_state,2,test_next_state,option=3)\n",
    "    decoded_init_state_3, decoded_next_state_3,_,_ = model(test_init_state,3,test_next_state,option=3)\n",
    "#Decoded Tensor\n",
    "print('Decoded Tensor')\n",
    "image_all.view_tensor(decoded_init_state_0.squeeze(0).squeeze(0))\n",
    "for decoded_state, a in zip([decoded_next_state_0,decoded_next_state_1,decoded_next_state_2,decoded_next_state_3],['Up','Down','Left','Right']):\n",
    "    print('Action:',a)\n",
    "    image_all.view_tensor(decoded_state.squeeze(0).squeeze(0))\n"
   ]
  },
  {
   "cell_type": "code",
   "execution_count": null,
   "metadata": {},
   "outputs": [],
   "source": []
  }
 ],
 "metadata": {
  "kernelspec": {
   "display_name": "base",
   "language": "python",
   "name": "python3"
  },
  "language_info": {
   "codemirror_mode": {
    "name": "ipython",
    "version": 3
   },
   "file_extension": ".py",
   "mimetype": "text/x-python",
   "name": "python",
   "nbconvert_exporter": "python",
   "pygments_lexer": "ipython3",
   "version": "3.9.7"
  }
 },
 "nbformat": 4,
 "nbformat_minor": 2
}
