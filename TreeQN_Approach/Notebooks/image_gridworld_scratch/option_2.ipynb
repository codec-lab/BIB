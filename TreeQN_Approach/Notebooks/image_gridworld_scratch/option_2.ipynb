{
 "cells": [
  {
   "cell_type": "code",
   "execution_count": 1,
   "metadata": {},
   "outputs": [],
   "source": [
    "import torch\n",
    "import torch.nn as nn\n",
    "import numpy as np\n",
    "from torch.functional import F\n",
    "import random\n",
    "from scratch_model import AutoEncoder\n",
    "from torch.optim import Adam\n",
    "import pandas as pd\n",
    "import matplotlib.pyplot as plt\n",
    "import image_all\n",
    "# from sklearn.manifold import MDS\n",
    "# import plotly.express as px\n",
    "# import plotly.graph_objects as go\n",
    "\n"
   ]
  },
  {
   "cell_type": "markdown",
   "metadata": {},
   "source": [
    "<h1>0 = Up | 1 = Down | 2 = Left | 3 = Right"
   ]
  },
  {
   "cell_type": "code",
   "execution_count": 2,
   "metadata": {},
   "outputs": [],
   "source": [
    "train_sas, test_sas = image_all.get_sas_data()  "
   ]
  },
  {
   "cell_type": "code",
   "execution_count": 3,
   "metadata": {},
   "outputs": [
    {
     "data": {
      "image/png": "[encoded data removed]",
      "text/plain": [
       "<Figure size 432x288 with 2 Axes>"
      ]
     },
     "metadata": {
      "needs_background": "light"
     },
     "output_type": "display_data"
    },
    {
     "name": "stdout",
     "output_type": "stream",
     "text": [
      "1\n"
     ]
    },
    {
     "data": {
      "image/png": "[encoded data removed]",
      "text/plain": [
       "<Figure size 432x288 with 2 Axes>"
      ]
     },
     "metadata": {
      "needs_background": "light"
     },
     "output_type": "display_data"
    }
   ],
   "source": [
    "image_all.view_tensor(train_sas[0][0])\n",
    "print(train_sas[0][1])\n",
    "image_all.view_tensor(train_sas[0][2])"
   ]
  },
  {
   "cell_type": "markdown",
   "metadata": {},
   "source": [
    "<h1>Option 2: Latent_tensor to Latent_tensor Loss"
   ]
  },
  {
   "cell_type": "code",
   "execution_count": 4,
   "metadata": {},
   "outputs": [],
   "source": [
    "in_shape = train_sas[0][0].unsqueeze(0).unsqueeze(0).shape\n",
    "embed_dim = 64 #Seems like optimal one\n",
    "enc_dropout = 0\n",
    "dec_dropout = 0.5\n",
    "model = AutoEncoder(in_shape, embed_dim,dec_drop_out=dec_dropout, enc_drop_out=enc_dropout)\n",
    "optimizer = Adam(model.parameters(), lr=1e-4,weight_decay=1e-5)\n"
   ]
  },
  {
   "cell_type": "code",
   "execution_count": 5,
   "metadata": {},
   "outputs": [
    {
     "name": "stdout",
     "output_type": "stream",
     "text": [
      "\n",
      "Total Val Loss: 2.199942947507066 Decode Val Loss: 1.9641600071412064 Latent Val Loss: 0.2357829406632252\n",
      "Total Train Loss: 2.636536697577685 Decode Train Loss: 2.2924848715774715 Latent Train Loss: 0.3440518256436917\n",
      "Total Train Loss: 1.8779844434000552 Decode Train Loss: 1.7229230295866729 Latent Train Loss: 0.1550614116523775\n",
      "Total Train Loss: 1.7194236934650688 Decode Train Loss: 1.5397071625571699 Latent Train Loss: 0.17971652953847297\n",
      "Total Train Loss: 1.556259404728189 Decode Train Loss: 1.3550623974762857 Latent Train Loss: 0.2011970076712714\n",
      "Total Train Loss: 1.4451860963366925 Decode Train Loss: 1.2375999459763989 Latent Train Loss: 0.2075861509364131\n",
      "Total Train Loss: 1.3472254652529956 Decode Train Loss: 1.1423913299571722 Latent Train Loss: 0.2048341373938456\n",
      "Total Train Loss: 1.2488282760139555 Decode Train Loss: 1.0387570976046845 Latent Train Loss: 0.21007118039210582\n",
      "Total Train Loss: 1.1704845879692585 Decode Train Loss: 0.9637024175608531 Latent Train Loss: 0.20678216925716697\n",
      "Total Train Loss: 1.093417285499163 Decode Train Loss: 0.8935408512596041 Latent Train Loss: 0.19987643394083535\n",
      "Total Train Loss: 1.029017708543688 Decode Train Loss: 0.8363806063425727 Latent Train Loss: 0.19263710228510716\n",
      "\n",
      "Total Val Loss: 1.842469638213515 Decode Val Loss: 1.6596740231160882 Latent Val Loss: 0.1827956141120091\n",
      "Total Train Loss: 0.9676195615436882 Decode Train Loss: 0.7797260021325201 Latent Train Loss: 0.18789356005672744\n",
      "Total Train Loss: 0.9185567820211873 Decode Train Loss: 0.7328853841987438 Latent Train Loss: 0.18567139811848393\n",
      "Total Train Loss: 0.8789296373724937 Decode Train Loss: 0.7030361614772118 Latent Train Loss: 0.1758934753457652\n",
      "Total Train Loss: 0.8395494495285675 Decode Train Loss: 0.6681637511355802 Latent Train Loss: 0.17138569860162534\n",
      "Total Train Loss: 0.7959419223014266 Decode Train Loss: 0.632107832946349 Latent Train Loss: 0.16383408870894983\n",
      "Total Train Loss: 0.7627613957272843 Decode Train Loss: 0.6012447934946976 Latent Train Loss: 0.16151660224768422\n",
      "Total Train Loss: 0.7426020652521401 Decode Train Loss: 0.589650175801944 Latent Train Loss: 0.15295188898599008\n",
      "Total Train Loss: 0.7202176626538858 Decode Train Loss: 0.5718716036470142 Latent Train Loss: 0.1483460593763084\n",
      "Total Train Loss: 0.6902594935731031 Decode Train Loss: 0.5457489455468021 Latent Train Loss: 0.14451054829041823\n",
      "Total Train Loss: 0.6673268934828229 Decode Train Loss: 0.5274914457229898 Latent Train Loss: 0.13983544724997046\n",
      "\n",
      "Total Val Loss: 1.6312575549818573 Decode Val Loss: 1.484442349705521 Latent Val Loss: 0.14681520673943652\n",
      "Total Train Loss: 0.6442739779013209 Decode Train Loss: 0.5064456063555554 Latent Train Loss: 0.13782837215785548\n",
      "Total Train Loss: 0.6308419369859621 Decode Train Loss: 0.49764600817579774 Latent Train Loss: 0.13319592887164616\n",
      "Total Train Loss: 0.6238362717675046 Decode Train Loss: 0.49541363486787304 Latent Train Loss: 0.1284226370811666\n",
      "Total Train Loss: 0.5927999930863734 Decode Train Loss: 0.46866772140492685 Latent Train Loss: 0.12413227231481869\n",
      "Total Train Loss: 0.5942630503792315 Decode Train Loss: 0.47395959047134967 Latent Train Loss: 0.1203034608033704\n",
      "Total Train Loss: 0.5796915234765038 Decode Train Loss: 0.46316011538729074 Latent Train Loss: 0.1165314077577932\n",
      "Total Train Loss: 0.5539319830713794 Decode Train Loss: 0.4410762554267421 Latent Train Loss: 0.11285572781034717\n",
      "Total Train Loss: 0.5568023550091311 Decode Train Loss: 0.44594182366272433 Latent Train Loss: 0.11086053138078569\n",
      "Total Train Loss: 0.5483162460557651 Decode Train Loss: 0.43980615998152645 Latent Train Loss: 0.10851008604931849\n",
      "Total Train Loss: 0.5375403797952458 Decode Train Loss: 0.431585491419537 Latent Train Loss: 0.10595488968319841\n",
      "\n",
      "Total Val Loss: 1.5441282094537239 Decode Val Loss: 1.4259210271436882 Latent Val Loss: 0.11820718072672404\n",
      "Total Train Loss: 0.5270589249092155 Decode Train Loss: 0.42623572918819264 Latent Train Loss: 0.10082319558914606\n",
      "Total Train Loss: 0.51420536757214 Decode Train Loss: 0.41484519171062856 Latent Train Loss: 0.0993601755488271\n",
      "Total Train Loss: 0.5071711902040988 Decode Train Loss: 0.4096054448978975 Latent Train Loss: 0.09756574507355253\n",
      "Total Train Loss: 0.49993159394944087 Decode Train Loss: 0.40708795269019904 Latent Train Loss: 0.09284364149716566\n",
      "Total Train Loss: 0.5005785303073935 Decode Train Loss: 0.4098177139647305 Latent Train Loss: 0.09076081641323981\n",
      "Total Train Loss: 0.4795147620083299 Decode Train Loss: 0.3889951450633816 Latent Train Loss: 0.09051961656641652\n",
      "Total Train Loss: 0.48902999723795804 Decode Train Loss: 0.40331700401729903 Latent Train Loss: 0.08571299334107607\n",
      "Total Train Loss: 0.4792778781731613 Decode Train Loss: 0.39382938905619086 Latent Train Loss: 0.08544848912279121\n",
      "Total Train Loss: 0.46492532873526216 Decode Train Loss: 0.38286940299440175 Latent Train Loss: 0.08205592594076734\n",
      "Total Train Loss: 0.4738293795846403 Decode Train Loss: 0.39276196432183497 Latent Train Loss: 0.08106741506635444\n",
      "\n",
      "Total Val Loss: 1.4993862486849334 Decode Val Loss: 1.3953678300806684 Latent Val Loss: 0.10401842000409606\n",
      "Total Train Loss: 0.45027758510550486 Decode Train Loss: 0.37113291266141457 Latent Train Loss: 0.07914467268983572\n",
      "Total Train Loss: 0.4485252431826666 Decode Train Loss: 0.3715876671951264 Latent Train Loss: 0.07693757617871597\n",
      "Total Train Loss: 0.44664091685554014 Decode Train Loss: 0.3701318604173139 Latent Train Loss: 0.07650905675272952\n",
      "Total Train Loss: 0.44307869478361683 Decode Train Loss: 0.3703724036575295 Latent Train Loss: 0.07270629050144635\n",
      "Total Train Loss: 0.4328189065156039 Decode Train Loss: 0.3613290584064089 Latent Train Loss: 0.07148984749383089\n",
      "Total Train Loss: 0.4344561881094705 Decode Train Loss: 0.3627069487411063 Latent Train Loss: 0.0717492398423019\n",
      "Total Train Loss: 0.4360406902153045 Decode Train Loss: 0.36689124031108805 Latent Train Loss: 0.06914945028365764\n",
      "Total Train Loss: 0.42377107779029755 Decode Train Loss: 0.35664032902568576 Latent Train Loss: 0.06713074887575203\n",
      "Total Train Loss: 0.4171374519297387 Decode Train Loss: 0.35027511705411596 Latent Train Loss: 0.06686233521086252\n",
      "Total Train Loss: 0.4124042957962956 Decode Train Loss: 0.3478128822724102 Latent Train Loss: 0.06459141346222168\n",
      "\n",
      "Total Val Loss: 1.4112829461531793 Decode Val Loss: 1.3239476890505655 Latent Val Loss: 0.08733525704171725\n",
      "Total Train Loss: 0.40559995427029205 Decode Train Loss: 0.34202707967488094 Latent Train Loss: 0.06357287456921767\n",
      "Total Train Loss: 0.4103819422074594 Decode Train Loss: 0.3486086309014354 Latent Train Loss: 0.0617733111117559\n",
      "Total Train Loss: 0.40798289232188834 Decode Train Loss: 0.34728769523790104 Latent Train Loss: 0.060695196570668485\n",
      "Total Train Loss: 0.38984609647886825 Decode Train Loss: 0.32963559686904775 Latent Train Loss: 0.060210500170887825\n",
      "Total Train Loss: 0.3929862803430296 Decode Train Loss: 0.3338990197516978 Latent Train Loss: 0.0590872600883813\n",
      "Total Train Loss: 0.39728128009592184 Decode Train Loss: 0.3389425578701776 Latent Train Loss: 0.05833872213852374\n",
      "Total Train Loss: 0.3986592727073003 Decode Train Loss: 0.34176778186229056 Latent Train Loss: 0.05689149085301324\n",
      "Total Train Loss: 0.3802198863006197 Decode Train Loss: 0.3251656091684708 Latent Train Loss: 0.055054277810086205\n",
      "Total Train Loss: 0.38557380725396795 Decode Train Loss: 0.3316581893945113 Latent Train Loss: 0.05391561826627367\n",
      "Total Train Loss: 0.38613599574309776 Decode Train Loss: 0.3319682427099906 Latent Train Loss: 0.05416775283811148\n",
      "\n",
      "Total Val Loss: 1.3330346378295317 Decode Val Loss: 1.2597290172403597 Latent Val Loss: 0.07330562048556874\n",
      "Total Train Loss: 0.37266205050982537 Decode Train Loss: 0.32006348704744597 Latent Train Loss: 0.052598563363426366\n",
      "Total Train Loss: 0.38104733133222907 Decode Train Loss: 0.3293534332828131 Latent Train Loss: 0.051693897454970286\n",
      "Total Train Loss: 0.37255212921882047 Decode Train Loss: 0.32105663149850444 Latent Train Loss: 0.05149549757188652\n",
      "Total Train Loss: 0.37026839449536053 Decode Train Loss: 0.32129424673039464 Latent Train Loss: 0.04897414767037844\n",
      "Total Train Loss: 0.3613178189843893 Decode Train Loss: 0.31314549333765174 Latent Train Loss: 0.04817232581808639\n",
      "Total Train Loss: 0.36341990348882974 Decode Train Loss: 0.3162548934720689 Latent Train Loss: 0.047165010586650166\n",
      "Total Train Loss: 0.35825251818750986 Decode Train Loss: 0.312201356672449 Latent Train Loss: 0.046051161719151426\n",
      "Total Train Loss: 0.35043727746815423 Decode Train Loss: 0.30491129113943316 Latent Train Loss: 0.045525986184748034\n",
      "Total Train Loss: 0.3635654736601282 Decode Train Loss: 0.31752615550358315 Latent Train Loss: 0.04603931814572206\n",
      "Total Train Loss: 0.35377630186849274 Decode Train Loss: 0.31060516140423716 Latent Train Loss: 0.043171139813784974\n",
      "\n",
      "Total Val Loss: 1.252868863166836 Decode Val Loss: 1.18753428758203 Latent Val Loss: 0.06533457384094894\n",
      "Total Train Loss: 0.3494028365414124 Decode Train Loss: 0.30606391510227693 Latent Train Loss: 0.0433389210191308\n",
      "Total Train Loss: 0.35277990063186737 Decode Train Loss: 0.30928664803213907 Latent Train Loss: 0.04349325271232374\n",
      "Total Train Loss: 0.3493408693931997 Decode Train Loss: 0.3066819672676502 Latent Train Loss: 0.04265890192964435\n",
      "Total Train Loss: 0.34008011761470697 Decode Train Loss: 0.2985717978765024 Latent Train Loss: 0.04150831982933596\n",
      "Total Train Loss: 0.3389537487993948 Decode Train Loss: 0.2978209061489906 Latent Train Loss: 0.04113284285085683\n",
      "Total Train Loss: 0.3438023449969478 Decode Train Loss: 0.3044393911550287 Latent Train Loss: 0.03936295420571696\n",
      "Total Train Loss: 0.33663792336010373 Decode Train Loss: 0.29714702649216634 Latent Train Loss: 0.039490896714551124\n",
      "Total Train Loss: 0.33785943313268946 Decode Train Loss: 0.2997159876220394 Latent Train Loss: 0.03814344594557042\n",
      "Total Train Loss: 0.3348220432468224 Decode Train Loss: 0.29672394263907337 Latent Train Loss: 0.03809810049824591\n",
      "Total Train Loss: 0.3347806618694449 Decode Train Loss: 0.29715298067894763 Latent Train Loss: 0.037627681325830054\n",
      "\n",
      "Total Val Loss: 1.2096266465706993 Decode Val Loss: 1.1552325617926922 Latent Val Loss: 0.05439408360416564\n",
      "Total Train Loss: 0.33245433517731726 Decode Train Loss: 0.29644397970114367 Latent Train Loss: 0.036010355517100835\n",
      "Total Train Loss: 0.33450339510454796 Decode Train Loss: 0.29831707759294657 Latent Train Loss: 0.03618631785302569\n",
      "Total Train Loss: 0.32992348030093127 Decode Train Loss: 0.29424157582107 Latent Train Loss: 0.035681904561806733\n",
      "Total Train Loss: 0.3270579993608408 Decode Train Loss: 0.29137443910585714 Latent Train Loss: 0.035683560307552396\n",
      "Total Train Loss: 0.3329018950287718 Decode Train Loss: 0.2980615764972754 Latent Train Loss: 0.03484031845182471\n",
      "Total Train Loss: 0.3217169128765818 Decode Train Loss: 0.2877825977280736 Latent Train Loss: 0.03393431524982589\n",
      "Total Train Loss: 0.31611951439408587 Decode Train Loss: 0.28209798265015706 Latent Train Loss: 0.03402153207734955\n",
      "Total Train Loss: 0.324554570071632 Decode Train Loss: 0.2914275517163333 Latent Train Loss: 0.03312701852073587\n",
      "Total Train Loss: 0.32482702283305115 Decode Train Loss: 0.29208126582670957 Latent Train Loss: 0.03274575710929639\n",
      "Total Train Loss: 0.31953239911817943 Decode Train Loss: 0.2867524395493092 Latent Train Loss: 0.03277995955031656\n",
      "\n",
      "Total Val Loss: 1.149518055051727 Decode Val Loss: 1.1076744915107668 Latent Val Loss: 0.04184356322817304\n",
      "Total Train Loss: 0.3241731597983744 Decode Train Loss: 0.2927123684174148 Latent Train Loss: 0.03146079151520098\n",
      "Total Train Loss: 0.3122638413507957 Decode Train Loss: 0.280708959401818 Latent Train Loss: 0.03155488155389321\n",
      "Total Train Loss: 0.31823570959386416 Decode Train Loss: 0.28725205712544266 Latent Train Loss: 0.03098365227397153\n",
      "Total Train Loss: 0.31528439691173843 Decode Train Loss: 0.2848758808744606 Latent Train Loss: 0.030408516491115735\n",
      "Total Train Loss: 0.31502769944490866 Decode Train Loss: 0.28454912793822584 Latent Train Loss: 0.030478571511594055\n",
      "Total Train Loss: 0.3077950205537491 Decode Train Loss: 0.2771822306938702 Latent Train Loss: 0.030612790351005968\n",
      "Total Train Loss: 0.3155809247982688 Decode Train Loss: 0.2855813245347235 Latent Train Loss: 0.029999600324663332\n",
      "Total Train Loss: 0.3056785143155139 Decode Train Loss: 0.2764282147982158 Latent Train Loss: 0.029250299141494907\n",
      "Total Train Loss: 0.3037193514755927 Decode Train Loss: 0.2752871220058296 Latent Train Loss: 0.028432229317058955\n",
      "Total Train Loss: 0.30734421719098465 Decode Train Loss: 0.27864654670702294 Latent Train Loss: 0.028697670471410676\n",
      "\n",
      "Total Val Loss: 1.1303361912217476 Decode Val Loss: 1.0928278600635086 Latent Val Loss: 0.03750833090437125\n",
      "Total Train Loss: 0.306625951116439 Decode Train Loss: 0.2780314086237922 Latent Train Loss: 0.028594542524479037\n",
      "Total Train Loss: 0.30479317421559243 Decode Train Loss: 0.2765344873769209 Latent Train Loss: 0.02825868722038649\n",
      "Total Train Loss: 0.30313343307352625 Decode Train Loss: 0.2756811960949562 Latent Train Loss: 0.027452236994213307\n",
      "Total Train Loss: 0.29961881175986493 Decode Train Loss: 0.2725571292889072 Latent Train Loss: 0.027061682274870692\n",
      "Total Train Loss: 0.301133423356805 Decode Train Loss: 0.2741137053235434 Latent Train Loss: 0.027019718009978533\n",
      "Total Train Loss: 0.3082482011523098 Decode Train Loss: 0.28178576106438413 Latent Train Loss: 0.0264624406528128\n",
      "Total Train Loss: 0.3025894440943375 Decode Train Loss: 0.27581771346158346 Latent Train Loss: 0.026771730519067206\n",
      "Total Train Loss: 0.29990609966916965 Decode Train Loss: 0.27358485545555594 Latent Train Loss: 0.026321243757593038\n",
      "Total Train Loss: 0.3010727218410466 Decode Train Loss: 0.27467375980049835 Latent Train Loss: 0.026398962138409844\n",
      "Total Train Loss: 0.2993214802758303 Decode Train Loss: 0.27363818772428206 Latent Train Loss: 0.02568329253990669\n",
      "\n",
      "Total Val Loss: 1.122300692874452 Decode Val Loss: 1.090792926615509 Latent Val Loss: 0.031507766150594835\n",
      "Total Train Loss: 0.29501056706649254 Decode Train Loss: 0.2693979842966655 Latent Train Loss: 0.025612582539542926\n",
      "Total Train Loss: 0.300954266282497 Decode Train Loss: 0.27542968601046597 Latent Train Loss: 0.025524580111050455\n",
      "Total Train Loss: 0.30403397226473317 Decode Train Loss: 0.2788424547063187 Latent Train Loss: 0.02519151747728756\n",
      "Total Train Loss: 0.29918966227560306 Decode Train Loss: 0.2745754359231796 Latent Train Loss: 0.024614226268568018\n",
      "Total Train Loss: 0.29361151162884197 Decode Train Loss: 0.26894125995750073 Latent Train Loss: 0.024670251351926707\n",
      "Total Train Loss: 0.29699756142799744 Decode Train Loss: 0.27256968146539295 Latent Train Loss: 0.024427879884569847\n",
      "Total Train Loss: 0.3008211016771384 Decode Train Loss: 0.2763373704539845 Latent Train Loss: 0.02448373113093112\n",
      "Total Train Loss: 0.29193039521342146 Decode Train Loss: 0.2674621544399997 Latent Train Loss: 0.02446824056632977\n",
      "Total Train Loss: 0.28854868406197054 Decode Train Loss: 0.26461197272874415 Latent Train Loss: 0.023936711217538688\n",
      "Total Train Loss: 0.29363525759545156 Decode Train Loss: 0.27043134075356645 Latent Train Loss: 0.023203917286809882\n",
      "\n",
      "Total Val Loss: 1.1110671335304882 Decode Val Loss: 1.0823381309518993 Latent Val Loss: 0.028729004214097662\n",
      "Total Train Loss: 0.2898627790156752 Decode Train Loss: 0.2663240514069912 Latent Train Loss: 0.023538727211962394\n",
      "Total Train Loss: 0.2932632057345472 Decode Train Loss: 0.2696038498572307 Latent Train Loss: 0.023659355080962997\n",
      "Total Train Loss: 0.29273057948448694 Decode Train Loss: 0.2699002239940455 Latent Train Loss: 0.022830355980113383\n",
      "Total Train Loss: 0.28060285287792797 Decode Train Loss: 0.2578497454058379 Latent Train Loss: 0.022753107933567662\n",
      "Total Train Loss: 0.29295043015154076 Decode Train Loss: 0.2706122489005793 Latent Train Loss: 0.02233818142049131\n",
      "Total Train Loss: 0.2891657231200952 Decode Train Loss: 0.2664985227282159 Latent Train Loss: 0.02266720046627597\n",
      "Total Train Loss: 0.2913925858447328 Decode Train Loss: 0.2689670248393668 Latent Train Loss: 0.022425560818192025\n",
      "Total Train Loss: 0.2906895082560368 Decode Train Loss: 0.26859183681954163 Latent Train Loss: 0.02209767140557233\n",
      "Total Train Loss: 0.28712274199933746 Decode Train Loss: 0.26519111986854116 Latent Train Loss: 0.02193162218245561\n",
      "Total Train Loss: 0.2879869092430454 Decode Train Loss: 0.2661276062717661 Latent Train Loss: 0.021859303140081464\n",
      "\n",
      "Total Val Loss: 1.1172671977471074 Decode Val Loss: 1.09287288363861 Latent Val Loss: 0.024394315431614494\n",
      "Total Train Loss: 0.28869207884999926 Decode Train Loss: 0.2671406954934355 Latent Train Loss: 0.021551383571386397\n",
      "Total Train Loss: 0.28767097154050136 Decode Train Loss: 0.26638285590161104 Latent Train Loss: 0.021288115401512188\n",
      "Total Train Loss: 0.2921694722143002 Decode Train Loss: 0.2705956553079886 Latent Train Loss: 0.02157381731813075\n",
      "Total Train Loss: 0.27900540685513986 Decode Train Loss: 0.25770447738759683 Latent Train Loss: 0.021300929562494277\n",
      "Total Train Loss: 0.2847453785536345 Decode Train Loss: 0.2636990938539384 Latent Train Loss: 0.0210462846684095\n",
      "Total Train Loss: 0.2910150574694853 Decode Train Loss: 0.27008427794498857 Latent Train Loss: 0.020930779030459236\n",
      "Total Train Loss: 0.29006807979312726 Decode Train Loss: 0.26953365103108806 Latent Train Loss: 0.020534428460450727\n",
      "Total Train Loss: 0.2839982987381518 Decode Train Loss: 0.2635059432126582 Latent Train Loss: 0.02049235558552027\n",
      "Total Train Loss: 0.2846434884122573 Decode Train Loss: 0.26445279019244483 Latent Train Loss: 0.02019069823072641\n",
      "Total Train Loss: 0.2838342374714557 Decode Train Loss: 0.2638190754252719 Latent Train Loss: 0.020015162296840572\n",
      "\n",
      "Total Val Loss: 1.1232158649996247 Decode Val Loss: 1.1019403835677581 Latent Val Loss: 0.02127548265058937\n",
      "Total Train Loss: 0.2782341385434847 Decode Train Loss: 0.25808222947234755 Latent Train Loss: 0.02015190924576018\n",
      "Total Train Loss: 0.28659339364385233 Decode Train Loss: 0.2660916954890126 Latent Train Loss: 0.020501698393309196\n",
      "Total Train Loss: 0.28616021495545285 Decode Train Loss: 0.26634334728587417 Latent Train Loss: 0.019816867327062938\n",
      "Total Train Loss: 0.2825472065364011 Decode Train Loss: 0.26239912682794964 Latent Train Loss: 0.020148079893806424\n",
      "Total Train Loss: 0.2785686174465809 Decode Train Loss: 0.25886566924746146 Latent Train Loss: 0.019702948634221683\n",
      "Total Train Loss: 0.28400010538753123 Decode Train Loss: 0.2641496858501341 Latent Train Loss: 0.019850419928479822\n",
      "Total Train Loss: 0.2842018396302592 Decode Train Loss: 0.2647096229076851 Latent Train Loss: 0.019492216623257265\n",
      "Total Train Loss: 0.2779773368587485 Decode Train Loss: 0.25863285729428753 Latent Train Loss: 0.019344479890605726\n",
      "Total Train Loss: 0.28164238048484547 Decode Train Loss: 0.2624605749559123 Latent Train Loss: 0.019181805528387486\n",
      "Total Train Loss: 0.27523150951601566 Decode Train Loss: 0.2560592989437282 Latent Train Loss: 0.019172210937904312\n",
      "\n",
      "Total Val Loss: 1.127432295748883 Decode Val Loss: 1.1073902048899427 Latent Val Loss: 0.020042088684852424\n",
      "Total Train Loss: 0.28639162731706164 Decode Train Loss: 0.2673952534620184 Latent Train Loss: 0.018996373944173684\n",
      "Total Train Loss: 0.2830131884780712 Decode Train Loss: 0.26386591762129685 Latent Train Loss: 0.019147270989924435\n",
      "Total Train Loss: 0.2710126626188867 Decode Train Loss: 0.2520956931490218 Latent Train Loss: 0.01891696934653737\n",
      "Total Train Loss: 0.28142625095206314 Decode Train Loss: 0.26256655147881247 Latent Train Loss: 0.018859699658059982\n",
      "Total Train Loss: 0.2738857923366595 Decode Train Loss: 0.25558184811088724 Latent Train Loss: 0.01830394454773341\n",
      "Total Train Loss: 0.27735600333544425 Decode Train Loss: 0.25881599927670323 Latent Train Loss: 0.018540004020542254\n",
      "Total Train Loss: 0.2854619643301703 Decode Train Loss: 0.26651728675351477 Latent Train Loss: 0.01894467743150017\n",
      "Total Train Loss: 0.28355290261097255 Decode Train Loss: 0.26463166034955066 Latent Train Loss: 0.01892124208570749\n",
      "Total Train Loss: 0.27558566480875013 Decode Train Loss: 0.25720453668036497 Latent Train Loss: 0.018381128024702775\n",
      "Total Train Loss: 0.27653477058047427 Decode Train Loss: 0.2578381420054939 Latent Train Loss: 0.01869662857534422\n",
      "\n",
      "Total Val Loss: 1.1261210673610151 Decode Val Loss: 1.1086751066107787 Latent Val Loss: 0.017445960713065804\n",
      "Total Train Loss: 0.28283438755897805 Decode Train Loss: 0.2643222769809654 Latent Train Loss: 0.0185121105183498\n",
      "Total Train Loss: 0.2784602682106197 Decode Train Loss: 0.26030097175680567 Latent Train Loss: 0.01815929641597904\n",
      "Total Train Loss: 0.27121383558842355 Decode Train Loss: 0.2533409529045457 Latent Train Loss: 0.017872882543451853\n",
      "Total Train Loss: 0.2699267289077397 Decode Train Loss: 0.25182384146610276 Latent Train Loss: 0.018102887560598902\n",
      "Total Train Loss: 0.27479890040121974 Decode Train Loss: 0.25686315400816967 Latent Train Loss: 0.017935746609509806\n",
      "Total Train Loss: 0.2788569832686335 Decode Train Loss: 0.26071335999586154 Latent Train Loss: 0.018143623278956512\n",
      "Total Train Loss: 0.27112903691013346 Decode Train Loss: 0.25353075950115456 Latent Train Loss: 0.017598277181241427\n",
      "Total Train Loss: 0.28032749419508035 Decode Train Loss: 0.2625256734288996 Latent Train Loss: 0.017801820733438944\n",
      "Total Train Loss: 0.2749626906064805 Decode Train Loss: 0.25747298222268 Latent Train Loss: 0.017489708160428562\n",
      "Total Train Loss: 0.26875318884267474 Decode Train Loss: 0.251469383679796 Latent Train Loss: 0.017283805139231844\n",
      "\n",
      "Total Val Loss: 1.120174085093743 Decode Val Loss: 1.1030471293539132 Latent Val Loss: 0.017126955877440352\n",
      "Total Train Loss: 0.2753893990186043 Decode Train Loss: 0.25788578371575566 Latent Train Loss: 0.01750361516387784\n",
      "Total Train Loss: 0.277795522561064 Decode Train Loss: 0.26018738317361567 Latent Train Loss: 0.017608139649382792\n",
      "Total Train Loss: 0.2732618654496036 Decode Train Loss: 0.2562442388647469 Latent Train Loss: 0.0170176264939073\n",
      "Total Train Loss: 0.2750038447324187 Decode Train Loss: 0.2577552672679303 Latent Train Loss: 0.017248576858764863\n",
      "Total Train Loss: 0.2687240922707133 Decode Train Loss: 0.25127511624014004 Latent Train Loss: 0.017448976161540487\n",
      "Total Train Loss: 0.2749052761355415 Decode Train Loss: 0.25774529357731807 Latent Train Loss: 0.017159982641169337\n",
      "Total Train Loss: 0.2749073562619742 Decode Train Loss: 0.25814499061671087 Latent Train Loss: 0.016762365559043247\n",
      "Total Train Loss: 0.27686289757257326 Decode Train Loss: 0.25994908178399784 Latent Train Loss: 0.016913815828229418\n",
      "Total Train Loss: 0.27206632996094415 Decode Train Loss: 0.2550448960944777 Latent Train Loss: 0.017021434005800983\n",
      "Total Train Loss: 0.2779398313316051 Decode Train Loss: 0.2610958086734172 Latent Train Loss: 0.016844022659643087\n",
      "\n",
      "Total Val Loss: 1.1383519251830874 Decode Val Loss: 1.1228689248673616 Latent Val Loss: 0.015483000636026109\n",
      "Total Train Loss: 0.27606471403269095 Decode Train Loss: 0.25934832556231413 Latent Train Loss: 0.016716388905479107\n",
      "Total Train Loss: 0.2746673922461923 Decode Train Loss: 0.25809194063767793 Latent Train Loss: 0.01657545218367886\n",
      "Total Train Loss: 0.2741728082241025 Decode Train Loss: 0.25758293488470374 Latent Train Loss: 0.01658987312184763\n",
      "Total Train Loss: 0.2684455345297465 Decode Train Loss: 0.2518232285641716 Latent Train Loss: 0.0166223054202419\n",
      "Total Train Loss: 0.27845053024357186 Decode Train Loss: 0.2619110673229443 Latent Train Loss: 0.016539462990840546\n",
      "Total Train Loss: 0.27551901680999435 Decode Train Loss: 0.259114887699252 Latent Train Loss: 0.016404129296643078\n",
      "Total Train Loss: 0.2688488977146335 Decode Train Loss: 0.2524857742770109 Latent Train Loss: 0.016363123563496628\n",
      "Total Train Loss: 0.27255534122814423 Decode Train Loss: 0.2562111680599628 Latent Train Loss: 0.016344173132893047\n",
      "Total Train Loss: 0.26723851680289956 Decode Train Loss: 0.2508407343062572 Latent Train Loss: 0.016397782868443754\n",
      "Total Train Loss: 0.276020433974918 Decode Train Loss: 0.2598246631881921 Latent Train Loss: 0.016195770836930024\n",
      "\n",
      "Total Val Loss: 1.150697264820337 Decode Val Loss: 1.1361418911458356 Latent Val Loss: 0.014555375274421353\n",
      "Total Train Loss: 0.27175487274071203 Decode Train Loss: 0.25583857583696956 Latent Train Loss: 0.01591629715367162\n",
      "Total Train Loss: 0.2750913317431696 Decode Train Loss: 0.259097503090743 Latent Train Loss: 0.01599382854765281\n",
      "Total Train Loss: 0.27420354096684607 Decode Train Loss: 0.2581452474958496 Latent Train Loss: 0.016058293410605985\n",
      "Total Train Loss: 0.269984669610858 Decode Train Loss: 0.2540125438303221 Latent Train Loss: 0.015972125927874004\n",
      "Total Train Loss: 0.2723843450337881 Decode Train Loss: 0.25690304543823006 Latent Train Loss: 0.015481299349630717\n",
      "Total Train Loss: 0.26480305623263123 Decode Train Loss: 0.24881610719894526 Latent Train Loss: 0.015986948953650427\n",
      "Total Train Loss: 0.2672250033880118 Decode Train Loss: 0.25160093188751487 Latent Train Loss: 0.015624071564889163\n",
      "Total Train Loss: 0.26696277571027166 Decode Train Loss: 0.2512574323453009 Latent Train Loss: 0.015705343555964646\n",
      "Total Train Loss: 0.264530171448132 Decode Train Loss: 0.24868118374579354 Latent Train Loss: 0.015848987486606347\n",
      "Total Train Loss: 0.275822087097913 Decode Train Loss: 0.2600035662879236 Latent Train Loss: 0.01581852084491402\n"
     ]
    },
    {
     "ename": "KeyboardInterrupt",
     "evalue": "",
     "output_type": "error",
     "traceback": [
      "\u001b[1;31m---------------------------------------------------------------------------\u001b[0m",
      "\u001b[1;31mKeyboardInterrupt\u001b[0m                         Traceback (most recent call last)",
      "\u001b[1;32m~\\AppData\\Local\\Temp/ipykernel_7208/4104187737.py\u001b[0m in \u001b[0;36m<module>\u001b[1;34m\u001b[0m\n\u001b[0;32m     37\u001b[0m                 \u001b[0minput_state\u001b[0m \u001b[1;33m=\u001b[0m \u001b[0minput_state\u001b[0m\u001b[1;33m.\u001b[0m\u001b[0munsqueeze\u001b[0m\u001b[1;33m(\u001b[0m\u001b[1;36m0\u001b[0m\u001b[1;33m)\u001b[0m\u001b[1;33m.\u001b[0m\u001b[0munsqueeze\u001b[0m\u001b[1;33m(\u001b[0m\u001b[1;36m0\u001b[0m\u001b[1;33m)\u001b[0m\u001b[1;33m\u001b[0m\u001b[1;33m\u001b[0m\u001b[0m\n\u001b[0;32m     38\u001b[0m                 \u001b[0minput_next_state\u001b[0m \u001b[1;33m=\u001b[0m \u001b[0minput_next_state\u001b[0m\u001b[1;33m.\u001b[0m\u001b[0munsqueeze\u001b[0m\u001b[1;33m(\u001b[0m\u001b[1;36m0\u001b[0m\u001b[1;33m)\u001b[0m\u001b[1;33m.\u001b[0m\u001b[0munsqueeze\u001b[0m\u001b[1;33m(\u001b[0m\u001b[1;36m0\u001b[0m\u001b[1;33m)\u001b[0m\u001b[1;33m\u001b[0m\u001b[1;33m\u001b[0m\u001b[0m\n\u001b[1;32m---> 39\u001b[1;33m                 \u001b[0mdecoded_init_state\u001b[0m\u001b[1;33m,\u001b[0m \u001b[0mlatent_init_state\u001b[0m\u001b[1;33m,\u001b[0m \u001b[0mlatent_next_state\u001b[0m \u001b[1;33m=\u001b[0m \u001b[0mmodel\u001b[0m\u001b[1;33m(\u001b[0m\u001b[0minput_state\u001b[0m\u001b[1;33m,\u001b[0m\u001b[0minput_action\u001b[0m\u001b[1;33m,\u001b[0m\u001b[0minput_next_state\u001b[0m\u001b[1;33m)\u001b[0m\u001b[1;33m\u001b[0m\u001b[1;33m\u001b[0m\u001b[0m\n\u001b[0m\u001b[0;32m     40\u001b[0m                 \u001b[0mval_decode_loss\u001b[0m \u001b[1;33m=\u001b[0m \u001b[0mF\u001b[0m\u001b[1;33m.\u001b[0m\u001b[0mmse_loss\u001b[0m\u001b[1;33m(\u001b[0m\u001b[0mdecoded_init_state\u001b[0m\u001b[1;33m.\u001b[0m\u001b[0msqueeze\u001b[0m\u001b[1;33m(\u001b[0m\u001b[1;36m0\u001b[0m\u001b[1;33m)\u001b[0m\u001b[1;33m.\u001b[0m\u001b[0msqueeze\u001b[0m\u001b[1;33m(\u001b[0m\u001b[1;36m0\u001b[0m\u001b[1;33m)\u001b[0m\u001b[1;33m,\u001b[0m \u001b[0mtest_sas\u001b[0m\u001b[1;33m[\u001b[0m\u001b[0mi\u001b[0m\u001b[1;33m]\u001b[0m\u001b[1;33m[\u001b[0m\u001b[1;36m0\u001b[0m\u001b[1;33m]\u001b[0m\u001b[1;33m)\u001b[0m\u001b[1;33m\u001b[0m\u001b[1;33m\u001b[0m\u001b[0m\n\u001b[0;32m     41\u001b[0m                 \u001b[0mval_latent_loss\u001b[0m \u001b[1;33m=\u001b[0m \u001b[0mF\u001b[0m\u001b[1;33m.\u001b[0m\u001b[0mmse_loss\u001b[0m\u001b[1;33m(\u001b[0m\u001b[0mlatent_init_state\u001b[0m\u001b[1;33m,\u001b[0m\u001b[0mlatent_next_state\u001b[0m\u001b[1;33m)\u001b[0m\u001b[1;33m\u001b[0m\u001b[1;33m\u001b[0m\u001b[0m\n",
      "\u001b[1;32mc:\\Users\\mikef\\anaconda3\\lib\\site-packages\\torch\\nn\\modules\\module.py\u001b[0m in \u001b[0;36m_wrapped_call_impl\u001b[1;34m(self, *args, **kwargs)\u001b[0m\n\u001b[0;32m   1516\u001b[0m             \u001b[1;32mreturn\u001b[0m \u001b[0mself\u001b[0m\u001b[1;33m.\u001b[0m\u001b[0m_compiled_call_impl\u001b[0m\u001b[1;33m(\u001b[0m\u001b[1;33m*\u001b[0m\u001b[0margs\u001b[0m\u001b[1;33m,\u001b[0m \u001b[1;33m**\u001b[0m\u001b[0mkwargs\u001b[0m\u001b[1;33m)\u001b[0m  \u001b[1;31m# type: ignore[misc]\u001b[0m\u001b[1;33m\u001b[0m\u001b[1;33m\u001b[0m\u001b[0m\n\u001b[0;32m   1517\u001b[0m         \u001b[1;32melse\u001b[0m\u001b[1;33m:\u001b[0m\u001b[1;33m\u001b[0m\u001b[1;33m\u001b[0m\u001b[0m\n\u001b[1;32m-> 1518\u001b[1;33m             \u001b[1;32mreturn\u001b[0m \u001b[0mself\u001b[0m\u001b[1;33m.\u001b[0m\u001b[0m_call_impl\u001b[0m\u001b[1;33m(\u001b[0m\u001b[1;33m*\u001b[0m\u001b[0margs\u001b[0m\u001b[1;33m,\u001b[0m \u001b[1;33m**\u001b[0m\u001b[0mkwargs\u001b[0m\u001b[1;33m)\u001b[0m\u001b[1;33m\u001b[0m\u001b[1;33m\u001b[0m\u001b[0m\n\u001b[0m\u001b[0;32m   1519\u001b[0m \u001b[1;33m\u001b[0m\u001b[0m\n\u001b[0;32m   1520\u001b[0m     \u001b[1;32mdef\u001b[0m \u001b[0m_call_impl\u001b[0m\u001b[1;33m(\u001b[0m\u001b[0mself\u001b[0m\u001b[1;33m,\u001b[0m \u001b[1;33m*\u001b[0m\u001b[0margs\u001b[0m\u001b[1;33m,\u001b[0m \u001b[1;33m**\u001b[0m\u001b[0mkwargs\u001b[0m\u001b[1;33m)\u001b[0m\u001b[1;33m:\u001b[0m\u001b[1;33m\u001b[0m\u001b[1;33m\u001b[0m\u001b[0m\n",
      "\u001b[1;32mc:\\Users\\mikef\\anaconda3\\lib\\site-packages\\torch\\nn\\modules\\module.py\u001b[0m in \u001b[0;36m_call_impl\u001b[1;34m(self, *args, **kwargs)\u001b[0m\n\u001b[0;32m   1525\u001b[0m                 \u001b[1;32mor\u001b[0m \u001b[0m_global_backward_pre_hooks\u001b[0m \u001b[1;32mor\u001b[0m \u001b[0m_global_backward_hooks\u001b[0m\u001b[1;33m\u001b[0m\u001b[1;33m\u001b[0m\u001b[0m\n\u001b[0;32m   1526\u001b[0m                 or _global_forward_hooks or _global_forward_pre_hooks):\n\u001b[1;32m-> 1527\u001b[1;33m             \u001b[1;32mreturn\u001b[0m \u001b[0mforward_call\u001b[0m\u001b[1;33m(\u001b[0m\u001b[1;33m*\u001b[0m\u001b[0margs\u001b[0m\u001b[1;33m,\u001b[0m \u001b[1;33m**\u001b[0m\u001b[0mkwargs\u001b[0m\u001b[1;33m)\u001b[0m\u001b[1;33m\u001b[0m\u001b[1;33m\u001b[0m\u001b[0m\n\u001b[0m\u001b[0;32m   1528\u001b[0m \u001b[1;33m\u001b[0m\u001b[0m\n\u001b[0;32m   1529\u001b[0m         \u001b[1;32mtry\u001b[0m\u001b[1;33m:\u001b[0m\u001b[1;33m\u001b[0m\u001b[1;33m\u001b[0m\u001b[0m\n",
      "\u001b[1;32mc:\\Users\\mikef\\Desktop\\TreeQN_Github\\BIB\\TreeQN_Approach\\Notebooks\\image_gridworld_scratch\\scratch_model.py\u001b[0m in \u001b[0;36mforward\u001b[1;34m(self, input_state, action, input_next_state)\u001b[0m\n\u001b[0;32m     93\u001b[0m         \u001b[0minput_latent_state\u001b[0m \u001b[1;33m=\u001b[0m \u001b[0mself\u001b[0m\u001b[1;33m.\u001b[0m\u001b[0mencoder\u001b[0m\u001b[1;33m(\u001b[0m\u001b[0minput_state\u001b[0m\u001b[1;33m)\u001b[0m\u001b[1;33m\u001b[0m\u001b[1;33m\u001b[0m\u001b[0m\n\u001b[0;32m     94\u001b[0m         \u001b[0minput_next_latent_state\u001b[0m \u001b[1;33m=\u001b[0m \u001b[0mself\u001b[0m\u001b[1;33m.\u001b[0m\u001b[0mencoder\u001b[0m\u001b[1;33m(\u001b[0m\u001b[0minput_next_state\u001b[0m\u001b[1;33m)\u001b[0m\u001b[1;33m\u001b[0m\u001b[1;33m\u001b[0m\u001b[0m\n\u001b[1;32m---> 95\u001b[1;33m         \u001b[0mdecoded_input_state\u001b[0m \u001b[1;33m=\u001b[0m \u001b[0mself\u001b[0m\u001b[1;33m.\u001b[0m\u001b[0mdecoder\u001b[0m\u001b[1;33m(\u001b[0m\u001b[0minput_latent_state\u001b[0m\u001b[1;33m)\u001b[0m \u001b[1;31m#ground state\u001b[0m\u001b[1;33m\u001b[0m\u001b[1;33m\u001b[0m\u001b[0m\n\u001b[0m\u001b[0;32m     96\u001b[0m         \u001b[0mtransitioned_latent_state\u001b[0m \u001b[1;33m=\u001b[0m \u001b[0mself\u001b[0m\u001b[1;33m.\u001b[0m\u001b[0mtransition\u001b[0m\u001b[1;33m(\u001b[0m\u001b[0minput_latent_state\u001b[0m\u001b[1;33m,\u001b[0m\u001b[0maction\u001b[0m\u001b[1;33m)\u001b[0m\u001b[1;33m\u001b[0m\u001b[1;33m\u001b[0m\u001b[0m\n\u001b[0;32m     97\u001b[0m         \u001b[1;32mreturn\u001b[0m \u001b[0mdecoded_input_state\u001b[0m\u001b[1;33m,\u001b[0m  \u001b[0mtransitioned_latent_state\u001b[0m\u001b[1;33m,\u001b[0m \u001b[0minput_next_latent_state\u001b[0m\u001b[1;33m\u001b[0m\u001b[1;33m\u001b[0m\u001b[0m\n",
      "\u001b[1;32mc:\\Users\\mikef\\anaconda3\\lib\\site-packages\\torch\\nn\\modules\\module.py\u001b[0m in \u001b[0;36m_wrapped_call_impl\u001b[1;34m(self, *args, **kwargs)\u001b[0m\n\u001b[0;32m   1516\u001b[0m             \u001b[1;32mreturn\u001b[0m \u001b[0mself\u001b[0m\u001b[1;33m.\u001b[0m\u001b[0m_compiled_call_impl\u001b[0m\u001b[1;33m(\u001b[0m\u001b[1;33m*\u001b[0m\u001b[0margs\u001b[0m\u001b[1;33m,\u001b[0m \u001b[1;33m**\u001b[0m\u001b[0mkwargs\u001b[0m\u001b[1;33m)\u001b[0m  \u001b[1;31m# type: ignore[misc]\u001b[0m\u001b[1;33m\u001b[0m\u001b[1;33m\u001b[0m\u001b[0m\n\u001b[0;32m   1517\u001b[0m         \u001b[1;32melse\u001b[0m\u001b[1;33m:\u001b[0m\u001b[1;33m\u001b[0m\u001b[1;33m\u001b[0m\u001b[0m\n\u001b[1;32m-> 1518\u001b[1;33m             \u001b[1;32mreturn\u001b[0m \u001b[0mself\u001b[0m\u001b[1;33m.\u001b[0m\u001b[0m_call_impl\u001b[0m\u001b[1;33m(\u001b[0m\u001b[1;33m*\u001b[0m\u001b[0margs\u001b[0m\u001b[1;33m,\u001b[0m \u001b[1;33m**\u001b[0m\u001b[0mkwargs\u001b[0m\u001b[1;33m)\u001b[0m\u001b[1;33m\u001b[0m\u001b[1;33m\u001b[0m\u001b[0m\n\u001b[0m\u001b[0;32m   1519\u001b[0m \u001b[1;33m\u001b[0m\u001b[0m\n\u001b[0;32m   1520\u001b[0m     \u001b[1;32mdef\u001b[0m \u001b[0m_call_impl\u001b[0m\u001b[1;33m(\u001b[0m\u001b[0mself\u001b[0m\u001b[1;33m,\u001b[0m \u001b[1;33m*\u001b[0m\u001b[0margs\u001b[0m\u001b[1;33m,\u001b[0m \u001b[1;33m**\u001b[0m\u001b[0mkwargs\u001b[0m\u001b[1;33m)\u001b[0m\u001b[1;33m:\u001b[0m\u001b[1;33m\u001b[0m\u001b[1;33m\u001b[0m\u001b[0m\n",
      "\u001b[1;32mc:\\Users\\mikef\\anaconda3\\lib\\site-packages\\torch\\nn\\modules\\module.py\u001b[0m in \u001b[0;36m_call_impl\u001b[1;34m(self, *args, **kwargs)\u001b[0m\n\u001b[0;32m   1525\u001b[0m                 \u001b[1;32mor\u001b[0m \u001b[0m_global_backward_pre_hooks\u001b[0m \u001b[1;32mor\u001b[0m \u001b[0m_global_backward_hooks\u001b[0m\u001b[1;33m\u001b[0m\u001b[1;33m\u001b[0m\u001b[0m\n\u001b[0;32m   1526\u001b[0m                 or _global_forward_hooks or _global_forward_pre_hooks):\n\u001b[1;32m-> 1527\u001b[1;33m             \u001b[1;32mreturn\u001b[0m \u001b[0mforward_call\u001b[0m\u001b[1;33m(\u001b[0m\u001b[1;33m*\u001b[0m\u001b[0margs\u001b[0m\u001b[1;33m,\u001b[0m \u001b[1;33m**\u001b[0m\u001b[0mkwargs\u001b[0m\u001b[1;33m)\u001b[0m\u001b[1;33m\u001b[0m\u001b[1;33m\u001b[0m\u001b[0m\n\u001b[0m\u001b[0;32m   1528\u001b[0m \u001b[1;33m\u001b[0m\u001b[0m\n\u001b[0;32m   1529\u001b[0m         \u001b[1;32mtry\u001b[0m\u001b[1;33m:\u001b[0m\u001b[1;33m\u001b[0m\u001b[1;33m\u001b[0m\u001b[0m\n",
      "\u001b[1;32mc:\\Users\\mikef\\Desktop\\TreeQN_Github\\BIB\\TreeQN_Approach\\Notebooks\\image_gridworld_scratch\\scratch_model.py\u001b[0m in \u001b[0;36mforward\u001b[1;34m(self, x)\u001b[0m\n\u001b[0;32m     65\u001b[0m         \u001b[0mx\u001b[0m \u001b[1;33m=\u001b[0m \u001b[0mself\u001b[0m\u001b[1;33m.\u001b[0m\u001b[0mdropout\u001b[0m\u001b[1;33m(\u001b[0m\u001b[0mx\u001b[0m\u001b[1;33m)\u001b[0m\u001b[1;33m\u001b[0m\u001b[1;33m\u001b[0m\u001b[0m\n\u001b[0;32m     66\u001b[0m \u001b[1;33m\u001b[0m\u001b[0m\n\u001b[1;32m---> 67\u001b[1;33m         \u001b[0mx\u001b[0m \u001b[1;33m=\u001b[0m \u001b[0mx\u001b[0m\u001b[1;33m.\u001b[0m\u001b[0mview\u001b[0m\u001b[1;33m(\u001b[0m\u001b[0mx\u001b[0m\u001b[1;33m.\u001b[0m\u001b[0msize\u001b[0m\u001b[1;33m(\u001b[0m\u001b[1;36m0\u001b[0m\u001b[1;33m)\u001b[0m\u001b[1;33m,\u001b[0m \u001b[0mdec_layers\u001b[0m\u001b[1;33m,\u001b[0m \u001b[1;36m5\u001b[0m\u001b[1;33m,\u001b[0m \u001b[1;36m5\u001b[0m\u001b[1;33m)\u001b[0m\u001b[1;33m\u001b[0m\u001b[1;33m\u001b[0m\u001b[0m\n\u001b[0m\u001b[0;32m     68\u001b[0m \u001b[1;33m\u001b[0m\u001b[0m\n\u001b[0;32m     69\u001b[0m         \u001b[0mx\u001b[0m \u001b[1;33m=\u001b[0m \u001b[0mself\u001b[0m\u001b[1;33m.\u001b[0m\u001b[0mdeconv1\u001b[0m\u001b[1;33m(\u001b[0m\u001b[0mx\u001b[0m\u001b[1;33m)\u001b[0m  \u001b[1;31m# Output: (batch_size, 64, 10, 10)\u001b[0m\u001b[1;33m\u001b[0m\u001b[1;33m\u001b[0m\u001b[0m\n",
      "\u001b[1;31mKeyboardInterrupt\u001b[0m: "
     ]
    }
   ],
   "source": [
    "train_divider = 0.04 * len(train_sas)\n",
    "test_divider = 0.04 * len(test_sas)\n",
    "for epoch in range(1000):\n",
    "    model.train()\n",
    "    avg_total_loss = 0\n",
    "    avg_decode_loss = 0\n",
    "    avg_latent_loss = 0\n",
    "    for i in random.sample(range(len(train_sas)), len(train_sas)):\n",
    "        #Prepare Input Data\n",
    "        input_state, input_action, input_next_state = train_sas[i]\n",
    "        input_state = input_state.unsqueeze(0).unsqueeze(0)\n",
    "        input_next_state = input_next_state.unsqueeze(0).unsqueeze(0)\n",
    "        #Get Model Output\n",
    "        decoded_init_state, latent_init_state, latent_next_state = model(input_state,input_action,input_next_state,option=2)\n",
    "        #Calculate Loss\n",
    "        decode_loss = F.mse_loss(decoded_init_state.squeeze(0).squeeze(0), train_sas[i][0])\n",
    "        latent_loss = F.mse_loss(latent_init_state,latent_next_state)\n",
    "        total_loss = decode_loss + latent_loss\n",
    "        #Add Loss to Average\n",
    "        avg_decode_loss += decode_loss.item()\n",
    "        avg_latent_loss += latent_loss.item()\n",
    "        avg_total_loss += total_loss.item()\n",
    "        #Backpropagate\n",
    "        optimizer.zero_grad()\n",
    "        total_loss.backward()\n",
    "        optimizer.step()\n",
    "\n",
    "    if epoch % 10 == 0:\n",
    "        val_avg_total_loss = 0\n",
    "        val_avg_decode_loss = 0\n",
    "        val_avg_latent_loss = 0\n",
    "    \n",
    "        for i in random.sample(range(len(test_sas)), len(test_sas)):\n",
    "            model.eval()\n",
    "            with torch.no_grad():\n",
    "                input_state, input_action, input_next_state = test_sas[i]\n",
    "                input_state = input_state.unsqueeze(0).unsqueeze(0)\n",
    "                input_next_state = input_next_state.unsqueeze(0).unsqueeze(0)\n",
    "                decoded_init_state, latent_init_state, latent_next_state = model(input_state,input_action,input_next_state)\n",
    "                val_decode_loss = F.mse_loss(decoded_init_state.squeeze(0).squeeze(0), test_sas[i][0])\n",
    "                val_latent_loss = F.mse_loss(latent_init_state,latent_next_state)\n",
    "                val_total_loss = val_decode_loss + val_latent_loss\n",
    "                val_avg_decode_loss += val_decode_loss.item()\n",
    "                val_avg_latent_loss += val_latent_loss.item()\n",
    "                val_avg_total_loss += val_total_loss.item()\n",
    "        print(f\"{epoch}\\nTotal Val Loss: {val_avg_total_loss/test_divider} Decode Val Loss: {val_avg_decode_loss/test_divider} Latent Val Loss: {val_avg_latent_loss/test_divider}\")\n",
    "    print(f\"Total Train Loss: {avg_total_loss/train_divider} Decode Train Loss: {avg_decode_loss/train_divider} Latent Train Loss: {avg_latent_loss/train_divider}\")"
   ]
  },
  {
   "cell_type": "code",
   "execution_count": 11,
   "metadata": {},
   "outputs": [],
   "source": [
    "#find good example of agent in the middle. Plug in each action and view decoded tensor. Also check with valid data\n",
    "train_sas[100] # good example \n",
    "test_init_state = train_sas[100][0].unsqueeze(0).unsqueeze(0)\n",
    "test_next_state = train_sas[100][2].unsqueeze(0).unsqueeze(0)"
   ]
  },
  {
   "cell_type": "code",
   "execution_count": 12,
   "metadata": {},
   "outputs": [
    {
     "data": {
      "image/png": "[encoded data removed]",
      "text/plain": [
       "<Figure size 432x288 with 2 Axes>"
      ]
     },
     "metadata": {
      "needs_background": "light"
     },
     "output_type": "display_data"
    }
   ],
   "source": [
    "image_all.view_tensor(train_sas[100][0])"
   ]
  },
  {
   "cell_type": "code",
   "execution_count": 15,
   "metadata": {},
   "outputs": [
    {
     "name": "stdout",
     "output_type": "stream",
     "text": [
      "Decoded Tensor\n"
     ]
    },
    {
     "data": {
      "image/png": "[encoded data removed]",
      "text/plain": [
       "<Figure size 432x288 with 2 Axes>"
      ]
     },
     "metadata": {
      "needs_background": "light"
     },
     "output_type": "display_data"
    },
    {
     "name": "stdout",
     "output_type": "stream",
     "text": [
      "Action: 0\n"
     ]
    },
    {
     "data": {
      "image/png": "[encoded data removed]",
      "text/plain": [
       "<Figure size 432x288 with 2 Axes>"
      ]
     },
     "metadata": {
      "needs_background": "light"
     },
     "output_type": "display_data"
    },
    {
     "name": "stdout",
     "output_type": "stream",
     "text": [
      "Action: 1\n"
     ]
    },
    {
     "data": {
      "image/png": "[encoded data removed]",
      "text/plain": [
       "<Figure size 432x288 with 2 Axes>"
      ]
     },
     "metadata": {
      "needs_background": "light"
     },
     "output_type": "display_data"
    },
    {
     "name": "stdout",
     "output_type": "stream",
     "text": [
      "Action: 2\n"
     ]
    },
    {
     "data": {
      "image/png": "[encoded data removed]",
      "text/plain": [
       "<Figure size 432x288 with 2 Axes>"
      ]
     },
     "metadata": {
      "needs_background": "light"
     },
     "output_type": "display_data"
    },
    {
     "name": "stdout",
     "output_type": "stream",
     "text": [
      "Action: 3\n"
     ]
    },
    {
     "data": {
      "image/png": "[encoded data removed]",
      "text/plain": [
       "<Figure size 432x288 with 2 Axes>"
      ]
     },
     "metadata": {
      "needs_background": "light"
     },
     "output_type": "display_data"
    }
   ],
   "source": [
    "model.eval()\n",
    "with torch.no_grad():\n",
    "    decoded_init_state_0, latent_init_state_0, latent_next_state_0 = model(test_init_state,0,test_next_state)\n",
    "    decoded_init_state_1, latent_init_state_1, latent_next_state_1 = model(test_init_state,1,test_next_state)\n",
    "    decoded_init_state_2, latent_init_state_2, latent_next_state_2 = model(test_init_state,2,test_next_state)\n",
    "    decoded_init_state_3, latent_init_state_3, latent_next_state_3 = model(test_init_state,3,test_next_state)\n",
    "#Decoded Tensor\n",
    "print('Decoded Tensor')\n",
    "image_all.view_tensor(decoded_init_state_0.squeeze(0).squeeze(0))\n",
    "for latent_tensor, a in zip([latent_init_state_0,latent_init_state_1,latent_init_state_2,latent_init_state_3],range(4)):\n",
    "    print('Action:',a)\n",
    "    image_all.view_tensor(model.decoder(latent_tensor).squeeze(0).squeeze(0).detach())\n"
   ]
  },
  {
   "cell_type": "code",
   "execution_count": null,
   "metadata": {},
   "outputs": [],
   "source": []
  }
 ],
 "metadata": {
  "kernelspec": {
   "display_name": "base",
   "language": "python",
   "name": "python3"
  },
  "language_info": {
   "codemirror_mode": {
    "name": "ipython",
    "version": 3
   },
   "file_extension": ".py",
   "mimetype": "text/x-python",
   "name": "python",
   "nbconvert_exporter": "python",
   "pygments_lexer": "ipython3",
   "version": "3.9.7"
  }
 },
 "nbformat": 4,
 "nbformat_minor": 2
}
